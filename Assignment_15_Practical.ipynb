{
  "nbformat": 4,
  "nbformat_minor": 0,
  "metadata": {
    "colab": {
      "provenance": []
    },
    "kernelspec": {
      "name": "python3",
      "display_name": "Python 3"
    },
    "language_info": {
      "name": "python"
    }
  },
  "cells": [
    {
      "cell_type": "code",
      "execution_count": null,
      "metadata": {
        "colab": {
          "base_uri": "https://localhost:8080/"
        },
        "id": "RBdzV3vf-jja",
        "outputId": "694041f3-52f3-48df-e53c-e277618623e4"
      },
      "outputs": [
        {
          "output_type": "stream",
          "name": "stdout",
          "text": [
            "Name:  Nehan\n",
            "Age:  16\n",
            "Score:  95\n",
            "School:  GUJAR AI School\n",
            "Nehan is 16 years old and is studying in GUJAR AI School. He scored 95 marks.\n",
            "Is student passed: True\n",
            "Is student1 instance of Student:  True\n",
            "Name: Nehan\n",
            "Age: 16\n",
            "Score: 95\n",
            "Hassan is 18 years old and is studying in GUJAR AI School. He scored 90 marks.\n",
            "Is student passed: True\n",
            "Is student2 instance of Student:  True\n",
            "Name: Hassan\n",
            "Age: 18\n",
            "Score: 90\n"
          ]
        }
      ],
      "source": [
        "#1. Define a class Student with attributes name, age, score. Create an instance and print its attributes.\n",
        "#2.Add a method display_info() to Student to print a sentence about the student.\n",
        "#3. Define a method has_passed() that returns True if score >= 50, else False.\n",
        "#5. Modify Student class to include a class variable school = \"GUJAR AI School\" and print it from instances.\n",
        "#6. Create two student objects and compare if they are instances of Student using isinstance().\n",
        "#9. Override the __str__() method in Student class to return a custom string.\n",
        "class Student:\n",
        "\n",
        "    school = \"GUJAR AI School\"\n",
        "    def __init__(self, name, age, score):\n",
        "        self.name = name\n",
        "        self.age = age\n",
        "        self.score = score\n",
        "    def display_info(self):\n",
        "        print(f\"{self.name} is {self.age} years old and is studying in {Student.school}. He scored {self.score} marks.\")\n",
        "    def __str__(self):\n",
        "        return f\"Name: {self.name}\\nAge: {self.age}\\nScore: {self.score}\"\n",
        "    def has_passed(self):\n",
        "        if self.score >= 50:\n",
        "            print(\"Is student passed: True\")\n",
        "        else:\n",
        "            print(\"Is student passed: False\")\n",
        "\n",
        "#first\n",
        "student1 = Student(\"Nehan\", 16, 95)\n",
        "print(\"Name: \", student1.name)\n",
        "print(\"Age: \", student1.age)\n",
        "print(\"Score: \", student1.score)\n",
        "print(\"School: \", student1.school)\n",
        "student1.display_info()\n",
        "student1.has_passed()\n",
        "print(\"Is student1 instance of Student: \", isinstance(student1, Student))\n",
        "print(student1)\n",
        "#second\n",
        "student2 = Student(\"Hassan\", 18, 90)\n",
        "student2.display_info()\n",
        "student2.has_passed()\n",
        "print(\"Is student2 instance of Student: \",isinstance(student2, Student))\n",
        "print(student2)"
      ]
    },
    {
      "cell_type": "code",
      "source": [
        "#4. Create a second class Teacher with name, subject, and a method teach(). Instantiate and call its method.\n",
        "#10. Use the dir() function to list attributes & methods of an instance of any class.\n",
        "class Teacher:\n",
        "    def __init__(self, name, subject):\n",
        "        self.name = name\n",
        "        self.subject = subject\n",
        "    def teach(self):\n",
        "        print(f\"Mr.{self.name} is teaching {self.subject}\")\n",
        "teacher1 = Teacher(\"Faizan\", \"AI\")\n",
        "teacher1.teach()\n",
        "print(dir(teacher1))"
      ],
      "metadata": {
        "colab": {
          "base_uri": "https://localhost:8080/"
        },
        "id": "x-6u5lTmDL2d",
        "outputId": "1dd1558e-6751-42d9-bb7f-9161733e57f6"
      },
      "execution_count": null,
      "outputs": [
        {
          "output_type": "stream",
          "name": "stdout",
          "text": [
            "Mr.Faizan is teaching AI\n",
            "['__class__', '__delattr__', '__dict__', '__dir__', '__doc__', '__eq__', '__format__', '__ge__', '__getattribute__', '__getstate__', '__gt__', '__hash__', '__init__', '__init_subclass__', '__le__', '__lt__', '__module__', '__ne__', '__new__', '__reduce__', '__reduce_ex__', '__repr__', '__setattr__', '__sizeof__', '__str__', '__subclasshook__', '__weakref__', 'name', 'subject', 'teach']\n"
          ]
        }
      ]
    },
    {
      "cell_type": "code",
      "source": [
        "#7. Create a Course class with attributes title and students (a list). Add a method to add students.\n",
        "#8. Write a method in Course to compute the average score of enrolled students.\n",
        "class Course:\n",
        "    def __init__(self, title):\n",
        "        self.title = title\n",
        "        self.students = []\n",
        "    def add_students(self, name, score):\n",
        "        student = {\"name\": name, \"score\": score}\n",
        "        self.students.append(student)\n",
        "        print(f\"{name} with score {score} is added to {self.title} course\")\n",
        "    def compute_average(self):\n",
        "        self.total = sum(student[\"score\"] for student in self.students)\n",
        "        self.average = self.total / len(self.students)\n",
        "        return f\"Average: {self.average}\"\n",
        "c1 = Course(\"Agentic and Robotic AI\")\n",
        "c1.add_students(\"Ali\", 94)\n",
        "c1.add_students(\"Ahmed\", 78)\n",
        "c1.add_students(\"Sara\", 89)\n",
        "c1.compute_average()"
      ],
      "metadata": {
        "colab": {
          "base_uri": "https://localhost:8080/",
          "height": 107
        },
        "id": "4RO4as1tF1bI",
        "outputId": "a62953cd-4c84-472e-87e7-00a66a21963d"
      },
      "execution_count": null,
      "outputs": [
        {
          "output_type": "stream",
          "name": "stdout",
          "text": [
            "Ali with score 94 is added to Agentic and Robotic AI course\n",
            "Ahmed with score 78 is added to Agentic and Robotic AI course\n",
            "Sara with score 89 is added to Agentic and Robotic AI course\n"
          ]
        },
        {
          "output_type": "execute_result",
          "data": {
            "text/plain": [
              "'Average: 87.0'"
            ],
            "application/vnd.google.colaboratory.intrinsic+json": {
              "type": "string"
            }
          },
          "metadata": {},
          "execution_count": 22
        }
      ]
    }
  ]
}