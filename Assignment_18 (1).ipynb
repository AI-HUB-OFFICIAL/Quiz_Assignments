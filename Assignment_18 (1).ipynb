{
  "nbformat": 4,
  "nbformat_minor": 0,
  "metadata": {
    "colab": {
      "provenance": []
    },
    "kernelspec": {
      "name": "python3",
      "display_name": "Python 3"
    },
    "language_info": {
      "name": "python"
    }
  },
  "cells": [
    {
      "cell_type": "code",
      "execution_count": 16,
      "metadata": {
        "colab": {
          "base_uri": "https://localhost:8080/"
        },
        "id": "EsrUUA2qzA2j",
        "outputId": "ee11786e-75d8-4d66-ad9c-c6a01ca20066"
      },
      "outputs": [
        {
          "output_type": "stream",
          "name": "stdout",
          "text": [
            "Rs 1500\n",
            "Rs 2000 deposited! New Balance: Rs 3500\n",
            "Rs 1000 withdrawn! New Balance: Rs 2500\n",
            "\n",
            "Savings Account\n",
            "Rs 25000\n",
            "Rs 2000 deposited! New Balance: Rs 27000\n",
            "Rs 1000 withdrawn! New Balance: Rs 26000\n",
            "Interest added: 2600.0\n",
            "Rs 28600.0\n"
          ]
        }
      ],
      "source": [
        "#1.  Create a class BankAccount with private attribute __balance, and methods deposit() and withdraw() to demonstrate encapsulation.\n",
        "#2. Implement a subclass SavingsAccount that inherits BankAccount and adds an add_interest() method.\n",
        "class BankAccount:\n",
        "  def __init__(self, balance):\n",
        "    self.__balance = balance\n",
        "  def deposit(self, amount):\n",
        "    if amount > 0:\n",
        "      self.__balance += amount\n",
        "      return f\"Rs {amount} deposited! New Balance: Rs {self.__balance}\"\n",
        "    else:\n",
        "      print(\"Please enter an amount greater than 0.\")\n",
        "  def withdraw(self, amount):\n",
        "    if amount > 0:\n",
        "      self.__balance -= amount\n",
        "      return f\"Rs {amount} withdrawn! New Balance: Rs {self.__balance}\"\n",
        "    else:\n",
        "      print(\"Please enter an amount greater than 0.\")\n",
        "  def get_balance(self):\n",
        "    return f\"Rs {self.__balance}\"\n",
        "b1 = BankAccount(1500)\n",
        "print(b1.get_balance())\n",
        "print(b1.deposit(2000))\n",
        "print(b1.withdraw(1000))\n",
        "class SavingsAccount(BankAccount):\n",
        "  def __init__(self, balance, rate):\n",
        "    super().__init__(balance)\n",
        "    self.rate = rate\n",
        "  def add_interest(self):\n",
        "    interest = self._BankAccount__balance * self.rate/100\n",
        "    self._BankAccount__balance += interest\n",
        "    return f\"Interest added: {interest}\"\n",
        "print(\"\\nSavings Account\")\n",
        "s1 = SavingsAccount(25000, 10)\n",
        "print(s1.get_balance())\n",
        "print(s1.deposit(2000))\n",
        "print(s1.withdraw(1000))\n",
        "print(s1.add_interest())\n",
        "print(s1.get_balance())\n",
        "\n",
        "\n"
      ]
    },
    {
      "cell_type": "code",
      "source": [
        "#3. Show method resolution order (MRO) using multiple inheritance: define classes A, B, C(A, B) and print C.mro().\n",
        "class A:\n",
        "  def letter(self):\n",
        "    return \"A\"\n",
        "class B:\n",
        "  def letter(self):\n",
        "    return \"B\"\n",
        "class C(A, B):\n",
        "  pass\n",
        "c1 = C()\n",
        "print(c1.letter())\n",
        "print(C.mro())"
      ],
      "metadata": {
        "colab": {
          "base_uri": "https://localhost:8080/"
        },
        "id": "s4fKkYy-k4xW",
        "outputId": "4c0a83c8-e48b-4b5a-fda4-b199cb15bed3"
      },
      "execution_count": 24,
      "outputs": [
        {
          "output_type": "stream",
          "name": "stdout",
          "text": [
            "A\n",
            "[<class '__main__.C'>, <class '__main__.A'>, <class '__main__.B'>, <class 'object'>]\n"
          ]
        }
      ]
    },
    {
      "cell_type": "code",
      "source": [
        "#4.  Demonstrate polymorphism: create classes Cat and Dog each with method speak(), and write a function make_speak(animal) that calls the correct method.\n",
        "class Cat:\n",
        "  def speak(self):\n",
        "    return \"Meow!\"\n",
        "class Dog:\n",
        "  def speak(self):\n",
        "    return \"Waoo!\"\n",
        "def make_speak(thing):\n",
        "  return thing.speak()\n",
        "c1 = Cat()\n",
        "d1 = Dog()\n",
        "print(make_speak(c1))\n",
        "print(make_speak(d1))"
      ],
      "metadata": {
        "colab": {
          "base_uri": "https://localhost:8080/"
        },
        "id": "VKjInFQFmoP-",
        "outputId": "c6a8f4fa-192d-43d5-e39b-bb2e7e37728b"
      },
      "execution_count": 25,
      "outputs": [
        {
          "output_type": "stream",
          "name": "stdout",
          "text": [
            "Meow!\n",
            "Waoo!\n"
          ]
        }
      ]
    },
    {
      "cell_type": "code",
      "source": [
        "#5.  Create a class Employee with attribute salary, then subclass Manager(Employee) and override display_salary() to add a bonus.\n",
        "#6. Use the super() function inside the overridden method for proper initialization and output.\n",
        "#7. Implement operator overloading: define _eq_() in Employee to compare employees by salary.\n",
        "#9. Demonstrate dynamic attribute creation by using setattr() to add an attribute department to an instance of Employee.\n",
        "#10. Use the built-in isinstance() and issubclass() functions in code to verify object relationships and print meaningful messages.\n",
        "\n",
        "class Employee:\n",
        "  def __init__(self, salary):\n",
        "    self.salary = salary\n",
        "  def display_salary(self):\n",
        "    return self.salary\n",
        "  def __eq__(self, other):\n",
        "    if not isinstance(other, Employee):\n",
        "      print(\"Wrong type!\")\n",
        "      return NotImplemented\n",
        "    return self.salary == other.salary\n",
        "\n",
        "class Manager(Employee):\n",
        "  def display_salary(self):\n",
        "    base_salary = super().display_salary()\n",
        "    bonus = base_salary * 0.10\n",
        "    final_salary = base_salary + bonus\n",
        "    return f\"Manager Salary (with 10% bouns): {final_salary}\"\n",
        "e1 = Employee(15000)\n",
        "print(e1.display_salary())\n",
        "setattr(e1, 'department', \"Supply\")\n",
        "print(e1.department)\n",
        "e2 = Employee(14000)\n",
        "print(e2.display_salary())\n",
        "print(e1 == e2)\n",
        "m1 = Manager(15000)\n",
        "print(m1.display_salary())\n",
        "if isinstance(e1, Employee):\n",
        "  print(\"e1 is instance of Employee.\")\n",
        "else:\n",
        "  print(\"e1 is not instance of Employee.\")\n",
        "if issubclass(Manager, Employee):\n",
        "  print(\"Manager is the subclass of Employee\")\n",
        "else:\n",
        "  print(\"Manager is not the subclass of Employee\")\n"
      ],
      "metadata": {
        "colab": {
          "base_uri": "https://localhost:8080/"
        },
        "id": "gABwfod6pFWL",
        "outputId": "e1956f34-0e37-4b40-cc89-18a437627db4"
      },
      "execution_count": 53,
      "outputs": [
        {
          "output_type": "stream",
          "name": "stdout",
          "text": [
            "15000\n",
            "Supply\n",
            "14000\n",
            "False\n",
            "Manager Salary (with 10% bouns): 16500.0\n",
            "e1 is instance of Employee.\n",
            "Manager is the subclass of Employee\n"
          ]
        }
      ]
    },
    {
      "cell_type": "code",
      "source": [
        "#8. Create a class Logger and use it as a decorator to log method calls on a target class.\n",
        "class Logger:\n",
        "  def __init__(self, func):\n",
        "    self.func = func\n",
        "    self.call_count = 0\n",
        "  def __call__(self, *args, **kwargs):\n",
        "    self.call_count += 1\n",
        "    print(f\"Call {self.call_count} of {self.func.__name__}:\")\n",
        "    return self.func(*args, **kwargs)\n",
        "@Logger\n",
        "def greeting(name):\n",
        "  print(f\"Hello {name}!\")\n",
        "greeting(\"Ahmed\")"
      ],
      "metadata": {
        "colab": {
          "base_uri": "https://localhost:8080/"
        },
        "id": "Pj65yuie5rJP",
        "outputId": "1fe0266a-0f29-4020-ac6c-6e583781620b"
      },
      "execution_count": 50,
      "outputs": [
        {
          "output_type": "stream",
          "name": "stdout",
          "text": [
            "Call 1 of greeting:\n",
            "Hello Ahmed!\n"
          ]
        }
      ]
    }
  ]
}