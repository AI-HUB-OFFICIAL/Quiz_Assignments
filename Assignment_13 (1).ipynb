{
  "nbformat": 4,
  "nbformat_minor": 0,
  "metadata": {
    "colab": {
      "provenance": []
    },
    "kernelspec": {
      "name": "python3",
      "display_name": "Python 3"
    },
    "language_info": {
      "name": "python"
    }
  },
  "cells": [
    {
      "cell_type": "code",
      "execution_count": 59,
      "metadata": {
        "id": "0LWrIeqTi5F6"
      },
      "outputs": [],
      "source": [
        "#1. 𝗖𝗿𝗲𝗮𝘁𝗲 𝗮 𝗳𝗶𝗹𝗲 𝗻𝗮𝗺𝗲𝗱 data.txt, 𝘄𝗿𝗶𝘁𝗲 𝟯 𝗹𝗶𝗻𝗲𝘀 𝗼𝗳 𝘁𝗲𝘅𝘁 𝗶𝗻 𝗶𝘁 𝘂𝘀𝗶𝗻𝗴 write mode, 𝘁𝗵𝗲𝗻 𝗰𝗹𝗼𝘀𝗲 𝘁𝗵𝗲 𝗳𝗶𝗹𝗲.\n",
        "file = open(\"data.txt\", \"w\")\n",
        "file.write(\"This is line 1\\n\")\n",
        "file.write(\"This is line 2\\n\")\n",
        "file.write(\"This is line 3\\n\")\n",
        "file.close()"
      ]
    },
    {
      "cell_type": "code",
      "source": [
        "#2. 𝗢𝗽𝗲𝗻 data.txt 𝗶𝗻 read mode, 𝗿𝗲𝗮𝗱 𝗮𝗹𝗹 𝗹𝗶𝗻𝗲𝘀, 𝗮𝗻𝗱 𝗽𝗿𝗶𝗻𝘁 𝗲𝗮𝗰𝗵 𝗹𝗶𝗻𝗲 𝗼𝗻𝗲 𝗯𝘆 𝗼𝗻𝗲.\n",
        "file = open(\"data.txt\", \"r\")\n",
        "for line in file:\n",
        "    print(line.strip())\n",
        "file.close()"
      ],
      "metadata": {
        "colab": {
          "base_uri": "https://localhost:8080/"
        },
        "id": "jDujtYsOjE7f",
        "outputId": "196943f5-d8ce-4772-84fd-1f37154437c9"
      },
      "execution_count": 60,
      "outputs": [
        {
          "output_type": "stream",
          "name": "stdout",
          "text": [
            "This is line 1\n",
            "This is line 2\n",
            "This is line 3\n"
          ]
        }
      ]
    },
    {
      "cell_type": "code",
      "source": [
        "#3. 𝗨𝘀𝗲 readlines() 𝘁𝗼 𝗿𝗲𝗮𝗱 𝗮𝗹𝗹 𝗹𝗶𝗻𝗲𝘀 𝗮𝗻𝗱 𝗽𝗿𝗶𝗻𝘁 𝗲𝗮𝗰𝗵 𝗹𝗶𝗻𝗲 𝘄𝗶𝘁𝗵 𝗶𝘁𝘀 𝗹𝗶𝗻𝗲 𝗻𝘂𝗺𝗯𝗲𝗿.\n",
        "file = open('data.txt', 'r')\n",
        "lines = file.readlines()\n",
        "for i in range(len(lines)):\n",
        "  print(f\"{i+1}: {lines[i].strip()}\")\n",
        "file.close()"
      ],
      "metadata": {
        "colab": {
          "base_uri": "https://localhost:8080/"
        },
        "id": "6t2uI0iDj-Jt",
        "outputId": "a0ccdf3c-e23b-41ff-a7ed-97d269cda686"
      },
      "execution_count": 61,
      "outputs": [
        {
          "output_type": "stream",
          "name": "stdout",
          "text": [
            "1: This is line 1\n",
            "2: This is line 2\n",
            "3: This is line 3\n"
          ]
        }
      ]
    },
    {
      "cell_type": "code",
      "source": [
        "#4. 𝗢𝗽𝗲𝗻 data.txt 𝗶𝗻 append mode, 𝗮𝗱𝗱 𝗮 𝗻𝗲𝘄 𝗹𝗶𝗻𝗲, 𝘁𝗵𝗲𝗻 𝗿𝗲𝗮𝗱 𝗮𝗻𝗱 𝗽𝗿𝗶𝗻𝘁 𝘁𝗵𝗲 𝘂𝗽𝗱𝗮𝘁𝗲𝗱 𝗰𝗼𝗻𝘁𝗲𝗻𝘁.\n",
        "with open(\"data.txt\", \"a\") as file:\n",
        "  data = file.write(\"This is another line\")\n",
        "with open(\"data.txt\", \"r\") as file:\n",
        "  content = file.read()\n",
        "  print(content)\n"
      ],
      "metadata": {
        "colab": {
          "base_uri": "https://localhost:8080/"
        },
        "id": "z7ypmKWzk7Yx",
        "outputId": "a403b229-391e-4d6c-c191-ba2fa1a0ef28"
      },
      "execution_count": 62,
      "outputs": [
        {
          "output_type": "stream",
          "name": "stdout",
          "text": [
            "This is line 1\n",
            "This is line 2\n",
            "This is line 3\n",
            "This is another line\n"
          ]
        }
      ]
    },
    {
      "cell_type": "code",
      "source": [
        "#5. 𝗨𝘀𝗲 with open() 𝘀𝘁𝗮𝘁𝗲𝗺𝗲𝗻𝘁 𝘁𝗼 𝗼𝗽𝗲𝗻 𝘁𝗵𝗲 𝗳𝗶𝗹𝗲 𝗶𝗻 read mode, 𝗮𝗻𝗱 𝘂𝘀𝗲 𝗮 𝗹𝗼𝗼𝗽 𝘁𝗼 𝗽𝗿𝗶𝗻𝘁 𝗲𝗮𝗰𝗵 𝗹𝗶𝗻𝗲 𝘄𝗶𝘁𝗵 𝗻𝘂𝗺𝗯𝗲𝗿𝘀.\n",
        "with open(\"data.txt\", \"r\") as file:\n",
        "  i = 1\n",
        "  for line in file:\n",
        "    print(f\"{i}: {line.strip()}\")\n",
        "    i += 1"
      ],
      "metadata": {
        "colab": {
          "base_uri": "https://localhost:8080/"
        },
        "id": "mCYqsR4aUDT9",
        "outputId": "abb8644b-69ec-434b-9c25-9299b1eee4fc"
      },
      "execution_count": 63,
      "outputs": [
        {
          "output_type": "stream",
          "name": "stdout",
          "text": [
            "1: This is line 1\n",
            "2: This is line 2\n",
            "3: This is line 3\n",
            "4: This is another line\n"
          ]
        }
      ]
    },
    {
      "cell_type": "code",
      "source": [
        "#6. 𝗖𝗿𝗲𝗮𝘁𝗲 numbers.txt, 𝘄𝗿𝗶𝘁𝗲 𝗻𝘂𝗺𝗯𝗲𝗿𝘀 𝟭 𝘁𝗼 𝟭𝟬 (𝗼𝗻𝗲 𝗽𝗲𝗿 𝗹𝗶𝗻𝗲), 𝗿𝗲𝗮𝗱 𝗳𝗶𝗹𝗲 𝗮𝗻𝗱 𝗽𝗿𝗶𝗻𝘁 𝘁𝗵𝗲 𝘀𝘂𝗺 𝗼𝗳 𝗮𝗹𝗹 𝗻𝘂𝗺𝗯𝗲𝗿𝘀\n",
        "with open(\"numbers.txt\", \"w\") as file:\n",
        "  for i in range(10):\n",
        "    file.write(f\"{i + 1}\\n\")\n",
        "with open(\"numbers.txt\", \"r\") as file:\n",
        "  sum = 0\n",
        "  for line in file:\n",
        "    sum += int(line.strip())\n",
        "  print(sum)"
      ],
      "metadata": {
        "colab": {
          "base_uri": "https://localhost:8080/"
        },
        "id": "9izBuBhBWX7-",
        "outputId": "0e13c074-fffb-490f-eed3-916581732d50"
      },
      "execution_count": 64,
      "outputs": [
        {
          "output_type": "stream",
          "name": "stdout",
          "text": [
            "55\n"
          ]
        }
      ]
    },
    {
      "cell_type": "code",
      "source": [
        "#7. 𝗖𝗿𝗲𝗮𝘁𝗲 even_numbers.txt 𝗮𝗻𝗱 𝘄𝗿𝗶𝘁𝗲 𝗮𝗹𝗹 𝗲𝘃𝗲𝗻 𝗻𝘂𝗺𝗯𝗲𝗿𝘀 𝗳𝗿𝗼𝗺 𝟭 𝘁𝗼 𝟱𝟬 𝘂𝘀𝗶𝗻𝗴 𝗮 𝗹𝗼𝗼𝗽.\n",
        "with open(\"even_numbers.txt\", \"w\") as file:\n",
        "  for i in range(1, 51):\n",
        "    if i%2 == 0:\n",
        "      file.write(f\"{i}\\n\")\n",
        ""
      ],
      "metadata": {
        "id": "rJFhJkd6ZLbf"
      },
      "execution_count": 66,
      "outputs": []
    },
    {
      "cell_type": "code",
      "source": [
        "#8.  𝗖𝗿𝗲𝗮𝘁𝗲 students.txt 𝗮𝗻𝗱 𝘄𝗿𝗶𝘁𝗲 𝗻𝗮𝗺𝗲𝘀 𝗼𝗳 𝘀𝘁𝘂𝗱𝗲𝗻𝘁𝘀. 𝗥𝗲𝗮𝗱 𝗳𝗶𝗹𝗲, 𝗽𝗿𝗶𝗻𝘁 𝗻𝗮𝗺𝗲𝘀 𝘄𝗶𝘁𝗵 𝗰𝗵𝗮𝗿𝗮𝗰𝘁𝗲𝗿 𝗰𝗼𝘂𝗻𝘁 𝘂𝘀𝗶𝗻𝗴 len().\n",
        "with open(\"students.txt\", \"w\") as file:\n",
        "  file.write(\"Ali\\n\")\n",
        "  file.write(\"Ahmed\\n\")\n",
        "  file.write(\"Usman\\n\")\n",
        "with open(\"students.txt\", \"r\") as file:\n",
        "  for line in file:\n",
        "    print(f\"{line.strip()}, length of name:{len(line.strip())}\")\n"
      ],
      "metadata": {
        "colab": {
          "base_uri": "https://localhost:8080/"
        },
        "id": "t2qdbFMPaRtH",
        "outputId": "cb7960e9-670a-4465-bcb8-7f44e1e38aff"
      },
      "execution_count": 67,
      "outputs": [
        {
          "output_type": "stream",
          "name": "stdout",
          "text": [
            "Ali, length of name:3\n",
            "Ahmed, length of name:5\n",
            "Usman, length of name:5\n"
          ]
        }
      ]
    },
    {
      "cell_type": "code",
      "source": [
        "#9. 𝗥𝗲𝗮𝗱 info.txt, 𝗰𝗵𝗲𝗰𝗸 𝗶𝗳 \"Python\" 𝗲𝘅𝗶𝘀𝘁𝘀. 𝗜𝗳 𝘁𝗿𝘂𝗲, 𝗽𝗿𝗶𝗻𝘁 \"Python found\", 𝗲𝗹𝘀𝗲 𝗽𝗿𝗶𝗻𝘁 \"Not found\".\n",
        "with open(\"info.txt\", \"w\") as file:\n",
        "  file.write(\"I love Python\".lower())\n",
        "with open(\"info.txt\", \"r\") as file:\n",
        "  for line in file:\n",
        "    if \"python\" in line:\n",
        "      print(\"Python found\")\n",
        "    else:\n",
        "      print(\"Not found\")"
      ],
      "metadata": {
        "colab": {
          "base_uri": "https://localhost:8080/"
        },
        "id": "rlwAMQdCbVvb",
        "outputId": "08a8215f-100b-4095-b4b4-e92a77b03b4e"
      },
      "execution_count": 69,
      "outputs": [
        {
          "output_type": "stream",
          "name": "stdout",
          "text": [
            "Python found\n"
          ]
        }
      ]
    },
    {
      "cell_type": "code",
      "source": [
        "#10. 𝗥𝗲𝗮𝗱 𝗮 𝗳𝗶𝗹𝗲, 𝗰𝗼𝗻𝘃𝗲𝗿𝘁 𝗮𝗹𝗹 𝘁𝗲𝘅𝘁 𝘁𝗼 uppercase, 𝘄𝗿𝗶𝘁𝗲 𝘁𝗼 output.txt.\n",
        "with open(\"info.txt\", \"r\") as file:\n",
        "  for line in file:\n",
        "    upper = line.strip().upper()\n",
        "with open(\"output.txt\", \"w\") as file:\n",
        "  file.write(upper)"
      ],
      "metadata": {
        "id": "YgI-hQt5cXz7"
      },
      "execution_count": 70,
      "outputs": []
    }
  ]
}