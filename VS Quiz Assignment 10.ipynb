{
 "cells": [
  {
   "cell_type": "code",
   "execution_count": 1,
   "id": "3ddeea45",
   "metadata": {},
   "outputs": [
    {
     "name": "stdout",
     "output_type": "stream",
     "text": [
      "25 <class 'int'>\n",
      "25 is less than 30.\n",
      "35 <class 'int'>\n",
      "35 is greater than 30.\n",
      "50 <class 'int'>\n",
      "50 is greater than 30.\n"
     ]
    }
   ],
   "source": [
    "#1. 𝗖𝗿𝗲𝗮𝘁𝗲 𝗮 𝗹𝗶𝘀𝘁 [\"𝟭𝟱\", \"𝟮𝟱\", \"𝟰𝟬\"]. 𝗖𝗼𝗻𝘃𝗲𝗿𝘁 𝗲𝗮𝗰𝗵 𝘁𝗼 int, 𝗮𝗱𝗱 𝟭𝟬, 𝘀𝘁𝗼𝗿𝗲 𝗶𝗻 𝗮 𝗻𝗲𝘄 tuple. 𝗣𝗿𝗶𝗻𝘁 𝗲𝗮𝗰𝗵 𝗲𝗹𝗲𝗺𝗲𝗻𝘁 𝗮𝗻𝗱 𝘁𝘆𝗽𝗲, 𝗮𝗻𝗱 𝗹𝗮𝗯𝗲𝗹 𝘃𝗮𝗹𝘂𝗲𝘀 > 𝟯𝟬 𝘂𝘀𝗶𝗻𝗴 if-else.\n",
    "str_num_list = [\"15\", \"25\", \"40\"]\n",
    "processed_num = []\n",
    "for str_num in str_num_list:\n",
    "    num = int(str_num)\n",
    "    added_num = num + 10\n",
    "    processed_num.append(added_num)\n",
    "my_tuple = tuple(processed_num)\n",
    "for items in my_tuple:\n",
    "    print(items, type(items))\n",
    "    if items > 30:\n",
    "        print(f\"{items} is greater than 30.\")\n",
    "    else:\n",
    "        print(f\"{items} is less than 30.\")"
   ]
  },
  {
   "cell_type": "code",
   "execution_count": 2,
   "id": "788ed2ac",
   "metadata": {},
   "outputs": [
    {
     "name": "stdout",
     "output_type": "stream",
     "text": [
      "Not eligible\n",
      "('Nehan', 16, 'Gujranwala')\n",
      "{'name': 'Nehan', 'age': 16, 'city': 'Gujranwala'}\n"
     ]
    }
   ],
   "source": [
    "#2. 𝗧𝗮𝗸𝗲 𝘂𝘀𝗲𝗿 𝗶𝗻𝗽𝘂𝘁 𝗳𝗼𝗿 𝗻𝗮𝗺𝗲, 𝗮𝗴𝗲 (𝗮𝘀 𝘀𝘁𝗿𝗶𝗻𝗴), 𝗮𝗻𝗱 𝗰𝗶𝘁𝘆. 𝗖𝗼𝗻𝘃𝗲𝗿𝘁 𝗮𝗴𝗲 𝘁𝗼 int, 𝗮𝗱𝗱 𝗶𝗻𝘁𝗼 𝗱𝗶𝗰𝘁 & tuple, 𝗰𝗵𝗲𝗰𝗸 𝗲𝗹𝗶𝗴𝗶𝗯𝗶𝗹𝗶𝘁𝘆 𝗳𝗼𝗿 𝘃𝗼𝘁𝗶𝗻𝗴.\n",
    "name = input (\"Enter your name here: \")\n",
    "str_age = input(\"Enter your age here: \")\n",
    "city = input(\"Enter your city here: \")\n",
    "age = int(str_age)\n",
    "if age > 18:\n",
    "    print(\"Eligible to vote\")\n",
    "else:\n",
    "    print(\"Not eligible\")\n",
    "my_tuple = (name, age, city)\n",
    "my_dict = {'name':name, 'age':age, 'city':city}\n",
    "print(my_tuple)\n",
    "print(my_dict)"
   ]
  },
  {
   "cell_type": "code",
   "execution_count": 3,
   "id": "e8114767",
   "metadata": {},
   "outputs": [
    {
     "name": "stdout",
     "output_type": "stream",
     "text": [
      "55 <class 'int'> : Pass <class 'str'>\n",
      "45 <class 'int'> : Fail <class 'str'>\n",
      "85 <class 'int'> : Pass <class 'str'>\n",
      "35 <class 'int'> : Fail <class 'str'>\n"
     ]
    }
   ],
   "source": [
    "#3. 𝗖𝗿𝗲𝗮𝘁𝗲 𝗮 𝗹𝗶𝘀𝘁 [\"𝟱𝟱\", \"𝟰𝟱\", \"𝟴𝟱\", \"𝟯𝟱\"]. 𝗖𝗼𝗻𝘃𝗲𝗿𝘁 𝘁𝗼 int, 𝗰𝗹𝗮𝘀𝘀𝗶𝗳𝘆 𝗮𝘀 \"𝗣𝗮𝘀𝘀\"/\"𝗙𝗮𝗶𝗹\" 𝘂𝘀𝗶𝗻𝗴 if-else, 𝘀𝘁𝗼𝗿𝗲 𝗶𝗻 𝗱𝗶𝗰𝘁, 𝗽𝗿𝗶𝗻𝘁 𝗲𝗮𝗰𝗵 𝘄𝗶𝘁𝗵 type().\n",
    "str_marks_list = [\"55\", \"45\", \"85\", \"35\"]\n",
    "my_dict = {}\n",
    "for str_marks in str_marks_list:\n",
    "    marks = int(str_marks)\n",
    "    if marks >= 50:\n",
    "        result = \"Pass\"\n",
    "    else:\n",
    "        result = \"Fail\"\n",
    "    my_dict[marks] = result\n",
    "for key, value in my_dict.items():\n",
    "    print(key, type(key) ,\":\", value, type(value))"
   ]
  },
  {
   "cell_type": "code",
   "execution_count": 4,
   "id": "88e82c12",
   "metadata": {},
   "outputs": [
    {
     "name": "stdout",
     "output_type": "stream",
     "text": [
      "name  :  Farah\n",
      "age  :  20\n",
      "score  :  93.5\n"
     ]
    }
   ],
   "source": [
    "#4.𝗗𝗲𝗳𝗶𝗻𝗲 𝗮 tuple (\"𝗙𝗮𝗿𝗮𝗵\", \"𝟮𝟬\", \"𝟴𝟴.𝟱\"). 𝗖𝗮𝘀𝘁 𝗮𝗴𝗲 𝘁𝗼 int, 𝘀𝗰𝗼𝗿𝗲 𝘁𝗼 float, 𝗮𝗱𝗱 𝟱 𝘁𝗼 𝘀𝗰𝗼𝗿𝗲, 𝗽𝘂𝘁 𝗶𝗻 𝗱𝗶𝗰𝘁, 𝗽𝗿𝗶𝗻𝘁 𝘂𝘀𝗶𝗻𝗴 𝗹𝗼𝗼𝗽.\n",
    "my_tuple = (\"Farah\", \"20\", \"88.5\")\n",
    "name = my_tuple[0]\n",
    "age = int(my_tuple[1])\n",
    "score = float(my_tuple[2])\n",
    "score += 5\n",
    "my_dict = {\"name\": name, \"age\": age, \"score\": score}\n",
    "for key, value in my_dict.items():\n",
    "    print(key,\" : \",value)"
   ]
  },
  {
   "cell_type": "code",
   "execution_count": 5,
   "id": "3cab3120",
   "metadata": {},
   "outputs": [
    {
     "name": "stdout",
     "output_type": "stream",
     "text": [
      "Names greater than 4 letters:  1\n",
      "Ana : {'length': 3, 'label': 'Short'}\n",
      "Sana : {'length': 4, 'label': 'Medium'}\n",
      "Salman : {'length': 6, 'label': 'Long'}\n"
     ]
    }
   ],
   "source": [
    "#5.𝗟𝗶𝘀𝘁 𝗼𝗳 𝗻𝗮𝗺𝗲𝘀 = [\"𝗔𝗻𝗮\", \"𝗦𝗮𝗻𝗮\", \"𝗦𝗮𝗹𝗺𝗮𝗻\"]. 𝗖𝗼𝘂𝗻𝘁 𝗻𝗮𝗺𝗲𝘀 > 𝟰 𝗹𝗲𝘁𝘁𝗲𝗿𝘀. 𝗖𝗿𝗲𝗮𝘁𝗲 𝗱𝗶𝗰𝘁: 𝗻𝗮𝗺𝗲 ➝ 𝗹𝗲𝗻𝗴𝘁𝗵, 𝗹𝗮𝗯𝗲𝗹 𝗮𝘀 \"𝘀𝗵𝗼𝗿𝘁\"/\"𝗺𝗲𝗱𝗶𝘂𝗺\"/\"𝗹𝗼𝗻𝗴\".\n",
    "name_list = [\"Ana\", \"Sana\", \"Salman\"]\n",
    "name_count = 0\n",
    "my_dict = {}\n",
    "for name in name_list:\n",
    "    name_length = len(name)\n",
    "    if name_length > 4:\n",
    "        name_count += 1\n",
    "        label = \"Long\"\n",
    "    elif 3 < name_length <=4:\n",
    "        label = \"Medium\"\n",
    "    else:\n",
    "        label = \"Short\"\n",
    "    my_dict[name] = {\"length\":name_length, \"label\": label}\n",
    "print(\"Names greater than 4 letters: \", name_count)\n",
    "\n",
    "for key, value in my_dict.items():\n",
    "    print(key, \":\", value)"
   ]
  },
  {
   "cell_type": "code",
   "execution_count": 6,
   "id": "bea65615",
   "metadata": {},
   "outputs": [
    {
     "name": "stdout",
     "output_type": "stream",
     "text": [
      "{'Ball': 60.0, 'Bat': 500.0}\n",
      "Bat is expensive\n"
     ]
    }
   ],
   "source": [
    "#6.𝗜𝗻𝗽𝘂𝘁 𝗽𝗿𝗼𝗱𝘂𝗰𝘁 𝗻𝗮𝗺𝗲𝘀 & 𝗽𝗿𝗶𝗰𝗲𝘀 (𝗮𝘀 𝘀𝘁𝗿𝗶𝗻𝗴𝘀). 𝗖𝗮𝘀𝘁 𝗽𝗿𝗶𝗰𝗲𝘀 𝘁𝗼 float, 𝗽𝘂𝘁 𝗶𝗻 𝗱𝗶𝗰𝘁, 𝗽𝗿𝗶𝗻𝘁 𝘄𝗶𝘁𝗵 if 𝗵𝗶𝗴𝗵𝗹𝗶𝗴𝗵𝘁𝗶𝗻𝗴 𝗶𝘁𝗲𝗺𝘀 > 𝟭𝟬𝟬.\n",
    "product1 = input(\"Enter first product here: \")\n",
    "str_price1 = input(\"Enter its price here: \")\n",
    "product2 = input(\"Enter second product here: \")\n",
    "str_price2 = input(\"Enter its price here: \")\n",
    "price1 = float(str_price1)\n",
    "price2 = float(str_price2)\n",
    "my_dict = {product1 : price1, product2 : price2}\n",
    "print(my_dict)\n",
    "for key, value in my_dict.items():\n",
    "    if value > 100:\n",
    "        print(f\"{key} is expensive\")"
   ]
  },
  {
   "cell_type": "code",
   "execution_count": 7,
   "id": "b1bb035f",
   "metadata": {},
   "outputs": [
    {
     "name": "stdout",
     "output_type": "stream",
     "text": [
      "100.0 : Below 250\n",
      "200.0 : Below 250\n",
      "300.5 : Above 250\n",
      "400.0 : Above 250\n"
     ]
    }
   ],
   "source": [
    "#7. 𝗠𝗶𝘅𝗲𝗱 𝗹𝗶𝘀𝘁 = [\"𝟭𝟬𝟬\", 𝟮𝟬𝟬, 𝟯𝟬𝟬.𝟱, \"𝟰𝟬𝟬\"]. 𝗖𝗼𝗻𝘃𝗲𝗿𝘁 𝘁𝗼 float, 𝗽𝗿𝗶𝗻𝘁 𝗮𝗻𝗱 𝗰𝗮𝘁𝗲𝗴𝗼𝗿𝗶𝘇𝗲 𝗮𝘀 \"𝗔𝗯𝗼𝘃𝗲 𝟮𝟱𝟬\"/\"𝗕𝗲𝗹𝗼𝘄 𝟮𝟱𝟬\".\n",
    "mixed_list = [\"100\", 200, 300.5, \"400\"]\n",
    "for items in mixed_list:\n",
    "    floats = float(items)\n",
    "    if floats>= 250:\n",
    "        print(floats, \": Above 250\")\n",
    "    else:\n",
    "        print(floats, \": Below 250\")"
   ]
  },
  {
   "cell_type": "code",
   "execution_count": 8,
   "id": "60f7f775",
   "metadata": {},
   "outputs": [
    {
     "name": "stdout",
     "output_type": "stream",
     "text": [
      "name : Ali\n",
      "age : 25\n",
      "student_change : True\n"
     ]
    }
   ],
   "source": [
    "#8. 𝗧𝘂𝗽𝗹𝗲 = (\"𝗔𝗹𝗶\", \"𝟮𝟱\", \"𝗧𝗿𝘂𝗲\"). 𝗖𝗼𝗻𝘃𝗲𝗿𝘁 𝗮𝗴𝗲 𝘁𝗼 int, 𝘀𝘁𝗿𝗶𝗻𝗴 𝗧𝗿𝘂𝗲 𝘁𝗼 bool, 𝘀𝘁𝗼𝗿𝗲 𝗶𝗻 𝗱𝗶𝗰𝘁, 𝗽𝗿𝗶𝗻𝘁 𝗸𝗲𝘆-𝘃𝗮𝗹𝘂𝗲𝘀 𝘄𝗶𝘁𝗵 𝘀𝘁𝘂𝗱𝗲𝗻𝘁 𝗰𝗵𝗲𝗰𝗸.\n",
    "my_tuple = (\"Ali\", \"25\", \"True\")\n",
    "name = my_tuple[0]\n",
    "age = int(my_tuple[1])\n",
    "student_check = bool(my_tuple[2])\n",
    "my_dict = {\"name\": name, \"age\": age, \"student_change\": student_check}\n",
    "for key, value in my_dict.items():\n",
    "     print(key, \":\", value)"
   ]
  },
  {
   "cell_type": "code",
   "execution_count": 9,
   "id": "d8a1900f",
   "metadata": {},
   "outputs": [
    {
     "name": "stdout",
     "output_type": "stream",
     "text": [
      "Grade: A\n"
     ]
    }
   ],
   "source": [
    "#9. 𝗦𝘂𝗯𝗷𝗲𝗰𝘁𝘀 𝗱𝗶𝗰𝘁 = {\"𝗠𝗮𝘁𝗵\": \"𝟵𝟬\", \"𝗘𝗻𝗴𝗹𝗶𝘀𝗵\": \"𝟴𝟱\"}. 𝗖𝗼𝗻𝘃𝗲𝗿𝘁 𝘁𝗼 int, 𝗰𝗮𝗹𝗰𝘂𝗹𝗮𝘁𝗲 𝘁𝗼𝘁𝗮𝗹 & 𝗮𝘃𝗲𝗿𝗮𝗴𝗲, 𝗮𝘀𝘀𝗶𝗴𝗻 𝗴𝗿𝗮𝗱𝗲𝘀 𝘂𝘀𝗶𝗻𝗴 if-elif-else.\n",
    "subjects_dict = {\"Math\" : \"90\", \"English\": \"85\"}\n",
    "total = 0\n",
    "for values in subjects_dict.values():\n",
    "    marks = int(values)\n",
    "    total += marks\n",
    "average = total / 2\n",
    "if average >= 90:\n",
    "    print(\"Grade: A+\")\n",
    "elif average >= 80:\n",
    "    print(\"Grade: A\")\n",
    "elif average >= 70:\n",
    "    print(\"Grade: B\")\n",
    "else:\n",
    "    print(\"Fail\")"
   ]
  },
  {
   "cell_type": "code",
   "execution_count": 10,
   "id": "602ff09e",
   "metadata": {},
   "outputs": [
    {
     "name": "stdout",
     "output_type": "stream",
     "text": [
      "\n",
      "Gadget Names: ['Pen drive', 'Laptop', 'HANDS FREE', 'Mouse', 'Air Pods']\n",
      "Gadget Prices: [150.0, 6000.0, 200.0, 100.0, 400.0]\n",
      "\n",
      "Total Price of Gadgets: 6850.0\n",
      "\n",
      "Expensive Items (Price > 200): {'Laptop': 6000.0, 'Air Pods': 400.0}\n"
     ]
    }
   ],
   "source": [
    "#10. 𝗔𝘀𝗸 𝘂𝘀𝗲𝗿 𝗳𝗼𝗿 𝟱 𝗴𝗮𝗱𝗴𝗲𝘁 𝗻𝗮𝗺𝗲𝘀 (𝘀𝘁𝗿𝗶𝗻𝗴𝘀), 𝗰𝗼𝗻𝘃𝗲𝗿𝘁 𝟯𝗿𝗱 𝘁𝗼 uppercase(), 𝘀𝘁𝗼𝗿𝗲 𝗽𝗿𝗶𝗰𝗲𝘀 𝗶𝗻 𝗮𝗻𝗼𝘁𝗵𝗲𝗿 𝗹𝗶𝘀𝘁, 𝗰𝗮𝗹𝗰𝘂𝗹𝗮𝘁𝗲 𝘁𝗼𝘁𝗮𝗹 & 𝗳𝗹𝗮𝗴 𝗲𝘅𝗽𝗲𝗻𝘀𝗶𝘃𝗲 𝗶𝘁𝗲𝗺𝘀 𝗶𝗻 𝗱𝗶𝗰𝘁.\n",
    "\n",
    "gadget_names = []\n",
    "gadget_prices = []\n",
    "expensive_items = {}\n",
    "total_price = 0\n",
    "\n",
    "for i in range(5):\n",
    "    name = input(f\"Enter name of gadget {i+1}: \")\n",
    "    price = float(input(f\"Enter price of {name}: \"))\n",
    "    gadget_names.append(name)\n",
    "    gadget_prices.append(price)\n",
    "    total_price += price\n",
    "\n",
    "    if i == 2:\n",
    "        gadget_names[i] = gadget_names[i].upper()\n",
    "\n",
    "    if price > 200:\n",
    "        expensive_items[name] = price\n",
    "\n",
    "print(\"\\nGadget Names:\", gadget_names)\n",
    "print(\"Gadget Prices:\", gadget_prices)\n",
    "print(\"\\nTotal Price of Gadgets:\", total_price)\n",
    "print(\"\\nExpensive Items (Price > 200):\", expensive_items)"
   ]
  }
 ],
 "metadata": {
  "kernelspec": {
   "display_name": "Python 3",
   "language": "python",
   "name": "python3"
  },
  "language_info": {
   "codemirror_mode": {
    "name": "ipython",
    "version": 3
   },
   "file_extension": ".py",
   "mimetype": "text/x-python",
   "name": "python",
   "nbconvert_exporter": "python",
   "pygments_lexer": "ipython3",
   "version": "3.12.10"
  }
 },
 "nbformat": 4,
 "nbformat_minor": 5
}
