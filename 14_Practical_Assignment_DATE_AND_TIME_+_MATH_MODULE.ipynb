{
  "nbformat": 4,
  "nbformat_minor": 0,
  "metadata": {
    "colab": {
      "provenance": []
    },
    "kernelspec": {
      "name": "python3",
      "display_name": "Python 3"
    },
    "language_info": {
      "name": "python"
    }
  },
  "cells": [
    {
      "cell_type": "code",
      "execution_count": 1,
      "metadata": {
        "colab": {
          "base_uri": "https://localhost:8080/"
        },
        "id": "z26t_texgw73",
        "outputId": "c04d9df5-bcd0-49d7-8d19-c0b11916029c"
      },
      "outputs": [
        {
          "output_type": "execute_result",
          "data": {
            "text/plain": [
              "5.0"
            ]
          },
          "metadata": {},
          "execution_count": 1
        }
      ],
      "source": [
        "#1. Use math.sqrt() to find the square root of a number\n",
        "import math\n",
        "math.sqrt(25)"
      ]
    },
    {
      "cell_type": "code",
      "source": [
        "#2.Find the value of π using math.pi and multiply it by 2\n",
        "import math\n",
        "print(math.pi)\n",
        "print(math.pi*2)"
      ],
      "metadata": {
        "colab": {
          "base_uri": "https://localhost:8080/"
        },
        "id": "trw3MqIwg9Vu",
        "outputId": "54330175-b94c-4fac-f546-b320ce40311a"
      },
      "execution_count": 2,
      "outputs": [
        {
          "output_type": "stream",
          "name": "stdout",
          "text": [
            "3.141592653589793\n",
            "6.283185307179586\n"
          ]
        }
      ]
    },
    {
      "cell_type": "code",
      "source": [
        "#3. Use math.pow(x, y) to find 4³\n",
        "import math\n",
        "math.pow(4, 3)"
      ],
      "metadata": {
        "colab": {
          "base_uri": "https://localhost:8080/"
        },
        "id": "mzW18dxz-6Qp",
        "outputId": "53c44200-5918-41bb-86e6-3b07db29fc9b"
      },
      "execution_count": null,
      "outputs": [
        {
          "output_type": "execute_result",
          "data": {
            "text/plain": [
              "64.0"
            ]
          },
          "metadata": {},
          "execution_count": 10
        }
      ]
    },
    {
      "cell_type": "code",
      "source": [
        "#4. Get the current date and time using datetime.datetime.now()\n",
        "import datetime\n",
        "print(datetime.datetime.now())"
      ],
      "metadata": {
        "colab": {
          "base_uri": "https://localhost:8080/"
        },
        "id": "jq818TFF_Fxi",
        "outputId": "26aacd64-32f8-4e15-9f4e-2568247d7b96"
      },
      "execution_count": null,
      "outputs": [
        {
          "output_type": "stream",
          "name": "stdout",
          "text": [
            "2025-07-15 12:09:25.857271\n"
          ]
        }
      ]
    },
    {
      "cell_type": "code",
      "source": [
        "#5. Print today's date using datetime.date.today()\n",
        "import datetime\n",
        "print(datetime.date.today())"
      ],
      "metadata": {
        "colab": {
          "base_uri": "https://localhost:8080/"
        },
        "id": "4kM3LmXJ_Z8c",
        "outputId": "27f5becc-8889-49ff-e786-0768ef03e61a"
      },
      "execution_count": null,
      "outputs": [
        {
          "output_type": "stream",
          "name": "stdout",
          "text": [
            "2025-07-15\n"
          ]
        }
      ]
    },
    {
      "cell_type": "code",
      "source": [
        "#6. Print the calendar for August 2025 using calendar.month()\n",
        "import calendar\n",
        "print(calendar.month(2025, 8))"
      ],
      "metadata": {
        "colab": {
          "base_uri": "https://localhost:8080/"
        },
        "id": "LpakJtEW_tGF",
        "outputId": "37386049-4fd5-4c74-d0e5-664bd9459836"
      },
      "execution_count": null,
      "outputs": [
        {
          "output_type": "stream",
          "name": "stdout",
          "text": [
            "    August 2025\n",
            "Mo Tu We Th Fr Sa Su\n",
            "             1  2  3\n",
            " 4  5  6  7  8  9 10\n",
            "11 12 13 14 15 16 17\n",
            "18 19 20 21 22 23 24\n",
            "25 26 27 28 29 30 31\n",
            "\n"
          ]
        }
      ]
    },
    {
      "cell_type": "code",
      "source": [
        "#7. Use calendar.isleap() to check if 2024 is a leap year\n",
        "import calendar\n",
        "print(calendar.isleap(2024))"
      ],
      "metadata": {
        "colab": {
          "base_uri": "https://localhost:8080/"
        },
        "id": "rzRCbg5JAKjm",
        "outputId": "6763ae06-611a-4435-f901-6d3b0363975c"
      },
      "execution_count": null,
      "outputs": [
        {
          "output_type": "stream",
          "name": "stdout",
          "text": [
            "True\n"
          ]
        }
      ]
    },
    {
      "cell_type": "code",
      "source": [
        "#8. Calculate the number of days between two dates\n",
        "import datetime\n",
        "date1 = datetime.datetime(2025, 4, 17)\n",
        "date2 = datetime.datetime(2025, 6, 22)\n",
        "difference = date2 - date1\n",
        "print(difference)"
      ],
      "metadata": {
        "colab": {
          "base_uri": "https://localhost:8080/"
        },
        "id": "7UqLL-mcAWQR",
        "outputId": "05111ad1-ac0a-41f2-88dd-8600676954dd"
      },
      "execution_count": null,
      "outputs": [
        {
          "output_type": "stream",
          "name": "stdout",
          "text": [
            "66 days, 0:00:00\n"
          ]
        }
      ]
    },
    {
      "cell_type": "code",
      "source": [
        "#9. Create a user-defined function that adds 5 days to the current date\n",
        "def add_5_days():\n",
        "    import datetime\n",
        "    '''This function adds 5 days to  the current date'''\n",
        "    now = datetime.datetime.now()\n",
        "    return (now + datetime.timedelta(days= 5))\n",
        "print(add_5_days())"
      ],
      "metadata": {
        "colab": {
          "base_uri": "https://localhost:8080/"
        },
        "id": "14uqznPkDK1g",
        "outputId": "a3249449-b334-461b-81da-ae30cf0c865a"
      },
      "execution_count": null,
      "outputs": [
        {
          "output_type": "stream",
          "name": "stdout",
          "text": [
            "2025-07-20 12:32:30.673980\n"
          ]
        }
      ]
    },
    {
      "cell_type": "code",
      "source": [
        "#10. Format the current date into DD-MM-YYYY using .strftime()\n",
        "import datetime\n",
        "now = datetime.datetime.now()\n",
        "print(now.strftime(\"%d-%m-%Y\"))"
      ],
      "metadata": {
        "colab": {
          "base_uri": "https://localhost:8080/"
        },
        "id": "QXyKCZZBE-Ys",
        "outputId": "9e55c194-1e91-476c-e1d6-0b4a1c415df7"
      },
      "execution_count": null,
      "outputs": [
        {
          "output_type": "stream",
          "name": "stdout",
          "text": [
            "15-07-2025\n"
          ]
        }
      ]
    }
  ]
}