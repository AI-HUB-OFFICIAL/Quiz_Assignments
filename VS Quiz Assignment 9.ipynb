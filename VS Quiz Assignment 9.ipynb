{
 "cells": [
  {
   "cell_type": "code",
   "execution_count": 1,
   "id": "a225f236",
   "metadata": {},
   "outputs": [
    {
     "name": "stdout",
     "output_type": "stream",
     "text": [
      "Pass\n"
     ]
    }
   ],
   "source": [
    "#1. 𝗧𝗮𝗸𝗲 𝘂𝘀𝗲𝗿 𝗶𝗻𝗽𝘂𝘁 𝗳𝗼𝗿 𝗺𝗮𝗿𝗸𝘀 (𝗮𝘀 𝘀𝘁𝗿𝗶𝗻𝗴), 𝗰𝗼𝗻𝘃𝗲𝗿𝘁 𝘁𝗼 int, 𝗮𝗻𝗱 𝗽𝗿𝗶𝗻𝘁 \"𝗣𝗮𝘀𝘀\" 𝗶𝗳 𝗺𝗮𝗿𝗸𝘀 ≥ 𝟰𝟬, 𝗲𝗹𝘀𝗲 \"𝗙𝗮𝗶𝗹\".\n",
    "str_marks = input(\"Enter your marks here: \")\n",
    "marks = int(str_marks)\n",
    "if marks >= 40:\n",
    "    print(\"Pass\")\n",
    "else:\n",
    "    print(\"Fail\")"
   ]
  },
  {
   "cell_type": "code",
   "execution_count": 2,
   "id": "ab8d7b52",
   "metadata": {},
   "outputs": [
    {
     "name": "stdout",
     "output_type": "stream",
     "text": [
      "21\n",
      "23\n"
     ]
    }
   ],
   "source": [
    "#2. 𝗖𝗿𝗲𝗮𝘁𝗲 𝗮 𝗹𝗶𝘀𝘁 𝗼𝗳 𝗮𝗴𝗲𝘀 (𝗮𝘀 𝘀𝘁𝗿𝗶𝗻𝗴𝘀), 𝗰𝗼𝗻𝘃𝗲𝗿𝘁 𝘁𝗼 int, 𝗮𝗻𝗱 𝗽𝗿𝗶𝗻𝘁 𝗼𝗻𝗹𝘆 𝗮𝗴𝗲𝘀 𝘁𝗵𝗮𝘁 𝗮𝗿𝗲 𝟭𝟴+ 𝗶𝗻 𝗮 𝗹𝗼𝗼𝗽.\n",
    "str_ages_list = [\"4\", \"13\", \"15\", \"18\", \"21\", \"23\"]\n",
    "for str_ages in str_ages_list:\n",
    "    ages = int(str_ages)\n",
    "    if ages > 18:\n",
    "        print(ages)"
   ]
  },
  {
   "cell_type": "code",
   "execution_count": 3,
   "id": "9d7ee932",
   "metadata": {},
   "outputs": [
    {
     "name": "stdout",
     "output_type": "stream",
     "text": [
      "The number is divisible by 7\n"
     ]
    }
   ],
   "source": [
    "#3. 𝗔𝘀𝗸 𝘁𝗵𝗲 𝘂𝘀𝗲𝗿 𝘁𝗼 𝗲𝗻𝘁𝗲𝗿 𝗮 𝗻𝘂𝗺𝗯𝗲𝗿. 𝗖𝗵𝗲𝗰𝗸 𝗶𝗳 𝗶𝘁'𝘀 𝗱𝗶𝘃𝗶𝘀𝗶𝗯𝗹𝗲 𝗯𝘆 𝟱 𝗼𝗿 𝟳, 𝗼𝗿 𝗯𝗼𝘁𝗵, 𝗮𝗻𝗱 𝗽𝗿𝗶𝗻𝘁 𝗮 𝗺𝗲𝘀𝘀𝗮𝗴𝗲.\n",
    "num = int(input(\"Enter a number here: \"))\n",
    "if num%5 == 0 and num%7 == 0:\n",
    "    print(\"The number is divisible by both 5 and 7\")\n",
    "elif num%5 == 0:\n",
    "    print(\"The number is divisible by 5\")\n",
    "elif num%7 == 0:\n",
    "    print(\"The number is divisible by 7\")\n",
    "else:\n",
    "    print(\"The number is neither divisible by 5 nor 7\")"
   ]
  },
  {
   "cell_type": "code",
   "execution_count": 4,
   "id": "5849e1a7",
   "metadata": {},
   "outputs": [
    {
     "name": "stdout",
     "output_type": "stream",
     "text": [
      "6\n",
      "12\n"
     ]
    }
   ],
   "source": [
    "#4.𝗖𝗿𝗲𝗮𝘁𝗲 𝗮 𝗹𝗶𝘀𝘁 [\"3\", \"6\", \"9\", \"12\"], 𝗰𝗮𝘀𝘁 𝘁𝗼 int, 𝗽𝗿𝗶𝗻𝘁 𝗼𝗻𝗹𝘆 𝗲𝗹𝗲𝗺𝗲𝗻𝘁𝘀 𝗱𝗶𝘃𝗶𝘀𝗶𝗯𝗹𝗲 𝗯𝘆 𝟲.\n",
    "str_num_list = [\"3\", \"6\", \"9\", \"12\"]\n",
    "for str_num in str_num_list:\n",
    "    num = int(str_num)\n",
    "    if num%6 == 0:\n",
    "        print(num)"
   ]
  },
  {
   "cell_type": "code",
   "execution_count": 5,
   "id": "06f012cc",
   "metadata": {},
   "outputs": [
    {
     "name": "stdout",
     "output_type": "stream",
     "text": [
      "Hello kid!\n"
     ]
    }
   ],
   "source": [
    "#5. 𝗧𝗮𝗸𝗲 𝗻𝗮𝗺𝗲 𝗮𝗻𝗱 𝗮𝗴𝗲 𝗮𝘀 𝗶𝗻𝗽𝘂𝘁. 𝗖𝗼𝗻𝘃𝗲𝗿𝘁 𝗮𝗴𝗲 𝘁𝗼 int, 𝗮𝗻𝗱 𝗽𝗿𝗶𝗻𝘁 𝗮 𝗰𝘂𝘀𝘁𝗼𝗺 𝗴𝗿𝗲𝗲𝘁𝗶𝗻𝗴 𝗳𝗼𝗿 𝗮𝗱𝘂𝗹𝘁𝘀 𝗼𝗿 𝗸𝗶𝗱𝘀.\n",
    "name = input(\"Enter your name here: \")\n",
    "age_str = input(\"Enter your age here: \")\n",
    "age = int(age_str)\n",
    "if age >= 18:\n",
    "    print(\"Hello sir!\")\n",
    "else:\n",
    "    print(\"Hello kid!\")"
   ]
  },
  {
   "cell_type": "code",
   "execution_count": 6,
   "id": "a94f6905",
   "metadata": {},
   "outputs": [
    {
     "name": "stdout",
     "output_type": "stream",
     "text": [
      "34\n",
      "12\n"
     ]
    }
   ],
   "source": [
    "#6. 𝗗𝗲𝗳𝗶𝗻𝗲 𝗮 𝗹𝗶𝘀𝘁 𝗼𝗳 𝟱 𝗻𝘂𝗺𝗯𝗲𝗿𝘀. 𝗣𝗿𝗶𝗻𝘁 𝘁𝗵𝗲 𝗵𝗶𝗴𝗵𝗲𝘀𝘁 𝗮𝗻𝗱 𝗹𝗼𝘄𝗲𝘀𝘁 𝘂𝘀𝗶𝗻𝗴 max() 𝗮𝗻𝗱 min().\n",
    "num_list = [23, 17, 12, 27, 34]\n",
    "print(max(num_list))\n",
    "print(min(num_list))"
   ]
  },
  {
   "cell_type": "code",
   "execution_count": 7,
   "id": "5c330194",
   "metadata": {},
   "outputs": [
    {
     "name": "stdout",
     "output_type": "stream",
     "text": [
      "10\n"
     ]
    }
   ],
   "source": [
    "#7. 𝗧𝗮𝗸𝗲 𝗶𝗻𝗽𝘂𝘁 𝗼𝗳 𝗮 𝘀𝘁𝗿𝗶𝗻𝗴 𝗰𝗼𝗻𝘁𝗮𝗶𝗻𝗶𝗻𝗴 𝗻𝘂𝗺𝗯𝗲𝗿𝘀 𝗹𝗶𝗸𝗲 \"𝟭𝟬𝟬𝟮𝟬𝟬𝟯𝟬𝟬\". 𝗘𝘅𝘁𝗿𝗮𝗰𝘁 𝗮𝗻𝗱 𝘀𝘂𝗺 𝗮𝗹𝗹 𝗱𝗶𝗴𝗶𝘁𝘀.\n",
    "str_num = input(\"Enter a number e.g(100200300): \")\n",
    "total = 0\n",
    "for i in str_num:\n",
    "    num = int(i)\n",
    "    total += num\n",
    "print(total)"
   ]
  },
  {
   "cell_type": "code",
   "execution_count": 8,
   "id": "87846a3c",
   "metadata": {},
   "outputs": [
    {
     "name": "stdout",
     "output_type": "stream",
     "text": [
      "Valid password\n"
     ]
    }
   ],
   "source": [
    "#8. 𝗔𝘀𝗸 𝘁𝗵𝗲 𝘂𝘀𝗲𝗿 𝘁𝗼 𝗲𝗻𝘁𝗲𝗿 𝗮 𝗽𝗮𝘀𝘀𝘄𝗼𝗿𝗱. 𝗖𝗵𝗲𝗰𝗸 𝗶𝗳 𝗶𝘁 𝗰𝗼𝗻𝘁𝗮𝗶𝗻𝘀 𝗮𝘁 𝗹𝗲𝗮𝘀𝘁 𝟴 𝗰𝗵𝗮𝗿𝗮𝗰𝘁𝗲𝗿𝘀 𝗮𝗻𝗱 𝗽𝗿𝗶𝗻𝘁 𝘃𝗮𝗹𝗶𝗱𝗶𝘁𝘆.\n",
    "password = input(\"Enter a password here: \")\n",
    "if len(password) >= 8:\n",
    "    print(\"Valid password\")\n",
    "else:\n",
    "    print(\"Invalid password\")"
   ]
  },
  {
   "cell_type": "code",
   "execution_count": 9,
   "id": "5d4f306b",
   "metadata": {},
   "outputs": [
    {
     "name": "stdout",
     "output_type": "stream",
     "text": [
      "2\n"
     ]
    }
   ],
   "source": [
    "#9. 𝗖𝗿𝗲𝗮𝘁𝗲 𝗮 𝗹𝗶𝘀𝘁 𝗼𝗳 𝗺𝗶𝘅𝗲𝗱 𝘁𝘆𝗽𝗲𝘀. 𝗟𝗼𝗼𝗽 𝗮𝗻𝗱 𝗰𝗼𝘂𝗻𝘁 𝗵𝗼𝘄 𝗺𝗮𝗻𝘆 𝗮𝗿𝗲 𝗶𝗻𝘁𝗲𝗴𝗲𝗿𝘀.\n",
    "mix_list = [\"abc\", \"5\", 6.7, 5, 7, True]\n",
    "integers = 0\n",
    "for items in mix_list:\n",
    "    if type(items) == int:\n",
    "        integers += 1\n",
    "print(integers)"
   ]
  },
  {
   "cell_type": "code",
   "execution_count": 10,
   "id": "1ee3b989",
   "metadata": {},
   "outputs": [
    {
     "data": {
      "text/plain": [
       "35"
      ]
     },
     "execution_count": 10,
     "metadata": {},
     "output_type": "execute_result"
    }
   ],
   "source": [
    "#10. 𝗨𝘀𝗲 import keyword 𝗮𝗻𝗱 𝗽𝗿𝗶𝗻𝘁 𝘁𝗵𝗲 𝘁𝗼𝘁𝗮𝗹 𝗻𝘂𝗺𝗯𝗲𝗿 𝗼𝗳 𝗣𝘆𝘁𝗵𝗼𝗻 𝗸𝗲𝘆𝘄𝗼𝗿𝗱𝘀 𝘂𝘀𝗶𝗻𝗴 len(keyword.kwlist).\n",
    "import keyword\n",
    "len(keyword.kwlist)"
   ]
  }
 ],
 "metadata": {
  "kernelspec": {
   "display_name": "Python 3",
   "language": "python",
   "name": "python3"
  },
  "language_info": {
   "codemirror_mode": {
    "name": "ipython",
    "version": 3
   },
   "file_extension": ".py",
   "mimetype": "text/x-python",
   "name": "python",
   "nbconvert_exporter": "python",
   "pygments_lexer": "ipython3",
   "version": "3.12.10"
  }
 },
 "nbformat": 4,
 "nbformat_minor": 5
}
