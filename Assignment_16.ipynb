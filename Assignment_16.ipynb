{
  "nbformat": 4,
  "nbformat_minor": 0,
  "metadata": {
    "colab": {
      "provenance": []
    },
    "kernelspec": {
      "name": "python3",
      "display_name": "Python 3"
    },
    "language_info": {
      "name": "python"
    }
  },
  "cells": [
    {
      "cell_type": "code",
      "execution_count": null,
      "metadata": {
        "colab": {
          "base_uri": "https://localhost:8080/"
        },
        "id": "spysebg3HSGE",
        "outputId": "fe28f6a3-4514-40da-f212-2df6eadc82c5"
      },
      "outputs": [
        {
          "output_type": "stream",
          "name": "stdout",
          "text": [
            "To Kill a Mockingbird\n",
            "Harper Lee\n",
            "281\n",
            "The book To Kill a Mockingbird with 281 pages has been written by Harper Lee.\n",
            "False\n",
            "English\n",
            "The book 1984 with 328 pages has been written by George Orwell.\n",
            "True\n",
            "English\n",
            "False\n",
            "Book(Title='To Kill a Mockingbird', Author='Harper Lee', Pages=281)\n",
            "Book(Title='1984', Author='George Orwell', Pages=328)\n",
            "Total pages in the library: 609\n"
          ]
        }
      ],
      "source": [
        "#1. Create a Book class with attributes: title, author, and pages. Instantiate and print book details.\n",
        "#2. Add a method summary() to return a short description of the book.\n",
        "#3. Create a method is_lengthy() that returns True if pages > 300, else False.\n",
        "#5. Add a class variable language = \"English\" in the Book class. Access it from different instances.\n",
        "#6. Create two Book instances and check if they are equal using == and explain the output.\n",
        "#9. Override __repr__() in the Book class to return a formatted book reference.\n",
        "class Book:\n",
        "  language = \"English\"\n",
        "  def __init__(self, title, author, pages):\n",
        "    self.title = title\n",
        "    self.author = author\n",
        "    self.pages = pages\n",
        "  def summary(self):\n",
        "    print(f\"The book {self.title} with {self.pages} pages has been written by {self.author}.\")\n",
        "  def is_lengthy(self):\n",
        "    print(self.pages > 300)\n",
        "  def __repr__(self):\n",
        "    return f\"Book(Title='{self.title}', Author='{self.author}', Pages={self.pages})\"\n",
        "b1 = Book(\"To Kill a Mockingbird\", \"Harper Lee\",281)\n",
        "print(b1.title)\n",
        "print(b1.author)\n",
        "print(b1.pages)\n",
        "b1.summary()\n",
        "b1.is_lengthy()\n",
        "print(b1.language)\n",
        "b2 = Book(\"1984\", \"George Orwell\", 328)\n",
        "b2.summary()\n",
        "b2.is_lengthy()\n",
        "print(b2.language)\n",
        "print(b1 == b2)# Output = False\n",
        "#The two instances of the book are from the same class but they don't have the same material in there attributes and methods. They have specific instance attributes\n",
        "print(b1)\n",
        "print(b2)\n",
        "#7. Create a Library class with a list of books and a method to add new books.\n",
        "#8. Write a method in Library to count total pages of all books.\n",
        "class Library:\n",
        "  def __init__(self):\n",
        "    self.books = []\n",
        "  def add_books(self, new_book):\n",
        "    self.books.append(new_book)\n",
        "  def total_pages(self):\n",
        "    return sum(book.pages for book in self.books)\n",
        "my_library = Library()\n",
        "my_library.add_books(b1)\n",
        "my_library.add_books(b2)\n",
        "print(f\"Total pages in the library: {my_library.total_pages()}\")"
      ]
    },
    {
      "cell_type": "code",
      "source": [
        "#4. Create an Author class with name and bio attributes, and a method introduce() that prints their intro.\n",
        "class Author:\n",
        "  def __init__(self, name, bio):\n",
        "    self.name = name\n",
        "    self.bio = bio\n",
        "  def introduce(self):\n",
        "    print(f\"Hey there! My name is {self.name}. {self.bio}\")\n",
        "a1 = Author(\"Allama Muhammad Iqbal\", \"I am an Urdu and persian author and poet.\")\n",
        "a1.introduce()\n",
        "#10. Use the type() and id() functions on an object and explain what they return.\n",
        "print(type(a1))# Returns the name of class of which the object is an instance\n",
        "print(id(a1))# Returns the memory location allotted to the the object"
      ],
      "metadata": {
        "colab": {
          "base_uri": "https://localhost:8080/"
        },
        "id": "Xw42tVM5MoXx",
        "outputId": "db14e963-e590-4811-d4fc-9a8457227162"
      },
      "execution_count": null,
      "outputs": [
        {
          "output_type": "stream",
          "name": "stdout",
          "text": [
            "Hey there! My name is Allama Muhammad Iqbal. I am an Urdu and persian author and poet.\n",
            "<class '__main__.Author'>\n",
            "137884500027728\n"
          ]
        }
      ]
    }
  ]
}