{
 "cells": [
  {
   "cell_type": "code",
   "execution_count": 1,
   "id": "b733e050",
   "metadata": {},
   "outputs": [
    {
     "name": "stdout",
     "output_type": "stream",
     "text": [
      "18\n"
     ]
    }
   ],
   "source": [
    "#1. 𝗧𝗮𝗸𝗲 𝘂𝘀𝗲𝗿 𝗶𝗻𝗽𝘂𝘁 𝗳𝗼𝗿 𝘁𝗵𝗲𝗶𝗿 𝗳𝘂𝗹𝗹 𝗻𝗮𝗺𝗲. 𝗣𝗿𝗶𝗻𝘁 𝗵𝗼𝘄 𝗺𝗮𝗻𝘆 𝗰𝗵𝗮𝗿𝗮𝗰𝘁𝗲𝗿𝘀 𝗮𝗿𝗲 𝗶𝗻 𝘁𝗵𝗲 𝗻𝗮𝗺𝗲 𝘂𝘀𝗶𝗻𝗴 len().\n",
    "name = input(\"Enter your full name here: \")\n",
    "print(len(name))"
   ]
  },
  {
   "cell_type": "code",
   "execution_count": 2,
   "id": "e54314a0",
   "metadata": {},
   "outputs": [
    {
     "name": "stdout",
     "output_type": "stream",
     "text": [
      "Hassaan\n",
      "Khurram\n"
     ]
    }
   ],
   "source": [
    "#2. 𝗖𝗿𝗲𝗮𝘁𝗲 𝗮 𝗹𝗶𝘀𝘁 𝗼𝗳 𝟱 𝗻𝗮𝗺𝗲𝘀. 𝗣𝗿𝗶𝗻𝘁 𝗼𝗻𝗹𝘆 𝘁𝗵𝗲 𝗻𝗮𝗺𝗲𝘀 𝘁𝗵𝗮𝘁 𝗵𝗮𝘃𝗲 𝗺𝗼𝗿𝗲 𝘁𝗵𝗮𝗻 𝟱 𝗰𝗵𝗮𝗿𝗮𝗰𝘁𝗲𝗿𝘀.\n",
    "name_list = [\"Nehan\",\"Hassaan\", \"Ali\", \"Khurram\", \"Usman\"]\n",
    "for name in name_list:\n",
    "    if len(name) > 5:\n",
    "        print(name) "
   ]
  },
  {
   "cell_type": "code",
   "execution_count": 3,
   "id": "4798681c",
   "metadata": {},
   "outputs": [
    {
     "name": "stdout",
     "output_type": "stream",
     "text": [
      "\"python\" is present in the sentence\n"
     ]
    }
   ],
   "source": [
    "#3. 𝗔𝘀𝗸 𝘁𝗵𝗲 𝘂𝘀𝗲𝗿 𝘁𝗼 𝗲𝗻𝘁𝗲𝗿 𝗮 𝘀𝗲𝗻𝘁𝗲𝗻𝗰𝗲. 𝗖𝗼𝗻𝘃𝗲𝗿𝘁 𝗶𝘁 𝘁𝗼 𝗹𝗼𝘄𝗲𝗿𝗰𝗮𝘀𝗲 𝗮𝗻𝗱 𝗰𝗵𝗲𝗰𝗸 𝗶𝗳 𝘁𝗵𝗲 𝘄𝗼𝗿𝗱 \"python\" 𝗶𝘀 𝗽𝗿𝗲𝘀𝗲𝗻𝘁.\n",
    "sentence = input(\"Enter a sentence: \")\n",
    "lower_sentence = sentence.lower()\n",
    "if \"python\" in lower_sentence:\n",
    "    print('\"python\" is present in the sentence')\n",
    "else:\n",
    "    print('\"python\" is not present in the sentence')\n",
    "    "
   ]
  },
  {
   "cell_type": "code",
   "execution_count": 4,
   "id": "695a582c",
   "metadata": {},
   "outputs": [
    {
     "name": "stdout",
     "output_type": "stream",
     "text": [
      "3\n",
      "6\n",
      "18\n",
      "21\n"
     ]
    }
   ],
   "source": [
    "#4. 𝗖𝗿𝗲𝗮𝘁𝗲 𝗮 𝗹𝗶𝘀𝘁 𝗼𝗳 𝗻𝘂𝗺𝗯𝗲𝗿𝘀. 𝗣𝗿𝗶𝗻𝘁 𝗼𝗻𝗹𝘆 𝘁𝗵𝗲 𝗻𝘂𝗺𝗯𝗲𝗿𝘀 𝘁𝗵𝗮𝘁 𝗮𝗿𝗲 𝗱𝗶𝘃𝗶𝘀𝗶𝗯𝗹𝗲 𝗯𝘆 𝟯.\n",
    "num = [3, 6, 7, 14, 18, 21, 23, 26]\n",
    "for i in num:\n",
    "    if i%3 == 0:\n",
    "        print(i)"
   ]
  },
  {
   "cell_type": "code",
   "execution_count": 5,
   "id": "ba00b974",
   "metadata": {},
   "outputs": [
    {
     "name": "stdout",
     "output_type": "stream",
     "text": [
      "45 is a positive number\n"
     ]
    }
   ],
   "source": [
    "#5. 𝗧𝗮𝗸𝗲 𝗮𝗻 𝗶𝗻𝗽𝘂𝘁 𝗻𝘂𝗺𝗯𝗲𝗿. 𝗨𝘀𝗲 if-elif-else 𝘁𝗼 𝗰𝗵𝗲𝗰𝗸 𝘄𝗵𝗲𝘁𝗵𝗲𝗿 𝗶𝘁'𝘀 𝗽𝗼𝘀𝗶𝘁𝗶𝘃𝗲, 𝗻𝗲𝗴𝗮𝘁𝗶𝘃𝗲, 𝗼𝗿 𝘇𝗲𝗿𝗼.\n",
    "num = int(input(\"Enter a number here: \"))\n",
    "if num > 0:\n",
    "    print(f\"{num} is a positive number\")\n",
    "elif num < 0:\n",
    "    print(f\"{num} is a negative number\")\n",
    "else:\n",
    "    print(f\"{num} is zero\")"
   ]
  },
  {
   "cell_type": "code",
   "execution_count": 7,
   "id": "88307eda",
   "metadata": {},
   "outputs": [
    {
     "name": "stdout",
     "output_type": "stream",
     "text": [
      "7.0 is the greater one\n"
     ]
    }
   ],
   "source": [
    "#6. 𝗧𝗮𝗸𝗲 𝘁𝘄𝗼 𝗶𝗻𝗽𝘂𝘁 𝗻𝘂𝗺𝗯𝗲𝗿𝘀 𝗮𝗻𝗱 𝗽𝗿𝗶𝗻𝘁 𝘁𝗵𝗲𝗶𝗿 𝗚𝗥𝗘𝗔𝗧𝗘𝗥 𝗼𝗻𝗲 𝘂𝘀𝗶𝗻𝗴 if-else.\n",
    "num1 = float(input(\"Enter first number: \"))\n",
    "num2 = float(input(\"Enter the second number here: \"))\n",
    "if num1 > num2:\n",
    "    print(f\"{num1} is the greater one.\")\n",
    "elif num2 > num1:\n",
    "    print(f\"{num2} is the greater one\")\n",
    "else:\n",
    "    print(\"Both are equal numbers\")"
   ]
  },
  {
   "cell_type": "code",
   "execution_count": 8,
   "id": "8834013b",
   "metadata": {},
   "outputs": [
    {
     "name": "stdout",
     "output_type": "stream",
     "text": [
      "['New York', 'Berlin', 'Lahore', 'Makkah']\n"
     ]
    }
   ],
   "source": [
    "#7. 𝗖𝗿𝗲𝗮𝘁𝗲 𝗮 𝗹𝗶𝘀𝘁 𝗼𝗳 𝗰𝗶𝘁𝗶𝗲𝘀. 𝗔𝗱𝗱 𝗮 𝗻𝗲𝘄 𝗰𝗶𝘁𝘆 𝗮𝘀 𝗶𝗻𝗽𝘂𝘁 𝗳𝗿𝗼𝗺 𝘁𝗵𝗲 𝘂𝘀𝗲𝗿 𝗮𝗻𝗱 𝗽𝗿𝗶𝗻𝘁 𝘁𝗵𝗲 𝘂𝗽𝗱𝗮𝘁𝗲𝗱 𝗹𝗶𝘀𝘁.\n",
    "cities = [\"New York\", \"Berlin\", \"Lahore\"]\n",
    "city = input(\"Enter a city: \")\n",
    "cities.append(city)\n",
    "print(cities)"
   ]
  },
  {
   "cell_type": "code",
   "execution_count": null,
   "id": "7f567ac7",
   "metadata": {},
   "outputs": [
    {
     "name": "stdout",
     "output_type": "stream",
     "text": [
      "olleH\n",
      "nohtyP\n",
      "dlroW\n",
      "dooG\n",
      "eyB\n"
     ]
    }
   ],
   "source": [
    "#8.  𝗖𝗿𝗲𝗮𝘁𝗲 𝗮 𝗹𝗶𝘀𝘁 𝗼𝗳 𝟱 𝘄𝗼𝗿𝗱𝘀. 𝗣𝗿𝗶𝗻𝘁 𝗲𝗮𝗰𝗵 𝘄𝗼𝗿𝗱 𝗼𝗻 𝗮 𝗻𝗲𝘄 𝗹𝗶𝗻𝗲 𝗶𝗻 𝗿𝗲𝘃𝗲𝗿𝘀𝗲 𝗼𝗿𝗱𝗲𝗿.\n",
    "words = [\"Hello\", \"Python\", \"World\", \"Good\", \"Bye\"]\n",
    "for word in words:\n",
    "    print(word[::-1])"
   ]
  },
  {
   "cell_type": "code",
   "execution_count": null,
   "id": "28fdd78a",
   "metadata": {},
   "outputs": [
    {
     "name": "stdout",
     "output_type": "stream",
     "text": [
      "217.0\n",
      "72.33333333333333\n",
      "Grade: B\n"
     ]
    }
   ],
   "source": [
    "#9. 𝗧𝗮𝗸𝗲 𝘂𝘀𝗲𝗿 𝗶𝗻𝗽𝘂𝘁 𝗼𝗳 𝘁𝗵𝗿𝗲𝗲 𝗺𝗮𝗿𝗸𝘀. 𝗖𝗮𝗹𝗰𝘂𝗹𝗮𝘁𝗲 𝘁𝗼𝘁𝗮𝗹, 𝗮𝘃𝗲𝗿𝗮𝗴𝗲, 𝗮𝗻𝗱 𝗴𝗿𝗮𝗱𝗲 (𝗔/𝗕/𝗖/𝗙𝗮𝗶𝗹).\n",
    "marks1 = float(input(\"Enter first marks here: \"))\n",
    "marks2 = float(input(\"Enter second marks here: \"))\n",
    "marks3 = float(input(\"Enter third marks here: \"))\n",
    "total = marks1 + marks2 + marks3\n",
    "print(total)\n",
    "average = total/3\n",
    "print(average)\n",
    "if average >= 80:\n",
    "    print(\"Grade: A\")\n",
    "elif average >= 70:\n",
    "    print(\"Grade: B\")\n",
    "elif average >= 60:\n",
    "    print(\"Grade: C\")\n",
    "else: \n",
    "    print(\"Fail\")"
   ]
  },
  {
   "cell_type": "code",
   "execution_count": 11,
   "id": "8b7dd986",
   "metadata": {},
   "outputs": [
    {
     "name": "stdout",
     "output_type": "stream",
     "text": [
      "Found\n"
     ]
    }
   ],
   "source": [
    "#10. 𝗖𝗿𝗲𝗮𝘁𝗲 𝗮 𝗹𝗶𝘀𝘁 𝗼𝗳 𝗳𝗿𝘂𝗶𝘁𝘀. 𝗖𝗵𝗲𝗰𝗸 𝗶𝗳 \"apple\" 𝗶𝘀 𝗶𝗻 𝘁𝗵𝗲 𝗹𝗶𝘀𝘁. 𝗣𝗿𝗶𝗻𝘁 \"𝗙𝗼𝘂𝗻𝗱\" 𝗼𝗿 \"𝗡𝗼𝘁 𝗙𝗼𝘂𝗻𝗱\".\n",
    "fruits = [\"apple\", \"banana\", \"peach\"]\n",
    "if \"apple\" in fruits:\n",
    "    print(\"Found\")\n",
    "else:\n",
    "    print(\"Not found\")\n",
    "    "
   ]
  },
  {
   "cell_type": "code",
   "execution_count": null,
   "id": "c28917d8",
   "metadata": {},
   "outputs": [],
   "source": []
  }
 ],
 "metadata": {
  "kernelspec": {
   "display_name": "Python 3",
   "language": "python",
   "name": "python3"
  },
  "language_info": {
   "codemirror_mode": {
    "name": "ipython",
    "version": 3
   },
   "file_extension": ".py",
   "mimetype": "text/x-python",
   "name": "python",
   "nbconvert_exporter": "python",
   "pygments_lexer": "ipython3",
   "version": "3.12.10"
  }
 },
 "nbformat": 4,
 "nbformat_minor": 5
}
