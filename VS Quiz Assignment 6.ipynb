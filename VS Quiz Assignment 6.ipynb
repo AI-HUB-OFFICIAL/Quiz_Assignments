{
 "cells": [
  {
   "cell_type": "code",
   "execution_count": 6,
   "id": "c6a9d726",
   "metadata": {},
   "outputs": [
    {
     "name": "stdout",
     "output_type": "stream",
     "text": [
      "1\n",
      "2\n",
      "3\n",
      "4\n",
      "5\n",
      "6\n",
      "7\n",
      "8\n",
      "9\n",
      "10\n",
      "11\n",
      "12\n",
      "13\n",
      "14\n",
      "15\n",
      "16\n",
      "17\n",
      "18\n",
      "19\n",
      "20\n"
     ]
    }
   ],
   "source": [
    "#1. 𝗣𝗿𝗶𝗻𝘁 𝗻𝘂𝗺𝗯𝗲𝗿𝘀 𝗳𝗿𝗼𝗺 𝟭 𝘁𝗼 𝟮𝟬 𝘂𝘀𝗶𝗻𝗴 𝗮 𝘄𝗵𝗶𝗹𝗲 𝗹𝗼𝗼𝗽۔\n",
    "num = 1 \n",
    "while num <= 20:\n",
    "     print(num)\n",
    "     num += 1\n",
    "     "
   ]
  },
  {
   "cell_type": "code",
   "execution_count": 7,
   "id": "4a0bd959",
   "metadata": {},
   "outputs": [
    {
     "name": "stdout",
     "output_type": "stream",
     "text": [
      "3\n",
      "6\n",
      "9\n",
      "12\n",
      "15\n",
      "18\n",
      "21\n",
      "24\n",
      "27\n",
      "30\n"
     ]
    }
   ],
   "source": [
    "#2. 𝗣𝗿𝗶𝗻𝘁 𝗲𝘃𝗲𝗿𝘆 𝟯𝗿𝗱 𝗻𝘂𝗺𝗯𝗲𝗿 𝗳𝗿𝗼𝗺 𝟯 𝘁𝗼 𝟯𝟬۔\n",
    "for i in range(3,31,3):\n",
    "    print(i)"
   ]
  },
  {
   "cell_type": "code",
   "execution_count": 8,
   "id": "c0030e6d",
   "metadata": {},
   "outputs": [
    {
     "name": "stdout",
     "output_type": "stream",
     "text": [
      "110\n"
     ]
    }
   ],
   "source": [
    "#3. 𝗣𝗿𝗶𝗻𝘁 𝘁𝗵𝗲 𝘀𝘂𝗺 𝗼𝗳 𝗲𝘃𝗲𝗻 𝗻𝘂𝗺𝗯𝗲𝗿𝘀 𝗳𝗿𝗼𝗺 𝟮 𝘁𝗼 𝟮𝟬۔\n",
    "sm = 0\n",
    "for i in range(2,21):\n",
    "    if i%2 == 0:\n",
    "        sm += i\n",
    "print(sm)"
   ]
  },
  {
   "cell_type": "code",
   "execution_count": 9,
   "id": "3d5f6bff",
   "metadata": {},
   "outputs": [
    {
     "name": "stdout",
     "output_type": "stream",
     "text": [
      "945\n"
     ]
    }
   ],
   "source": [
    "#4. 𝗣𝗿𝗶𝗻𝘁 𝘁𝗵𝗲 𝗽𝗿𝗼𝗱𝘂𝗰𝘁 𝗼𝗳 𝗼𝗱𝗱 𝗻𝘂𝗺𝗯𝗲𝗿𝘀 𝗳𝗿𝗼𝗺 𝟭 𝘁𝗼 𝟵۔\n",
    "product = 1\n",
    "for i in range(1,10):\n",
    "    if i%2 != 0:\n",
    "        product *= i\n",
    "print(product)"
   ]
  },
  {
   "cell_type": "code",
   "execution_count": 10,
   "id": "5e371953",
   "metadata": {},
   "outputs": [
    {
     "name": "stdout",
     "output_type": "stream",
     "text": [
      "Hassaan\n",
      "Nehan\n",
      "Ali\n",
      "Hamza\n",
      "Usman\n"
     ]
    }
   ],
   "source": [
    "#5. 𝗖𝗿𝗲𝗮𝘁𝗲 𝗮 𝗹𝗶𝘀𝘁 𝗼𝗳 𝟱 𝗻𝗮𝗺𝗲𝘀 𝗮𝗻𝗱 𝗽𝗿𝗶𝗻𝘁 𝗲𝗮𝗰𝗵 𝗻𝗮𝗺𝗲 𝗼𝗻 𝗮 𝗻𝗲𝘄 𝗹𝗶𝗻𝗲۔\n",
    "names = [\"Hassaan\", \"Nehan\", \"Ali\", \"Hamza\", \"Usman\"]\n",
    "for name in names:\n",
    "    print(name)"
   ]
  },
  {
   "cell_type": "code",
   "execution_count": 11,
   "id": "2f6cac1e",
   "metadata": {},
   "outputs": [
    {
     "name": "stdout",
     "output_type": "stream",
     "text": [
      "3\n"
     ]
    }
   ],
   "source": [
    "#6. 𝗖𝗼𝘂𝗻𝘁 𝗵𝗼𝘄 𝗺𝗮𝗻𝘆 𝗹𝗲𝘁𝘁𝗲𝗿𝘀 '𝗮' 𝗮𝗿𝗲 𝗶𝗻 𝘁𝗵𝗲 𝘄𝗼𝗿𝗱 \"𝗯𝗮𝗻𝗮𝗻𝗮\".\n",
    "fruit = \"banana\"\n",
    "print(fruit.count(\"a\"))"
   ]
  },
  {
   "cell_type": "code",
   "execution_count": 12,
   "id": "c8016101",
   "metadata": {},
   "outputs": [
    {
     "name": "stdout",
     "output_type": "stream",
     "text": [
      "-2\n",
      "-12\n",
      "-20\n"
     ]
    }
   ],
   "source": [
    "#7. 𝗣𝗿𝗶𝗻𝘁 𝗼𝗻𝗹𝘆 𝘁𝗵𝗲 𝗻𝗲𝗴𝗮𝘁𝗶𝘃𝗲 𝗻𝘂𝗺𝗯𝗲𝗿𝘀 𝗳𝗿𝗼𝗺 𝗮 𝗴𝗶𝘃𝗲𝗻 𝗹𝗶𝘀𝘁۔\n",
    "giv_list = [1, -2, 7, -12, -20, 25]\n",
    "for num in giv_list:\n",
    "    if num < 0:\n",
    "        print(num)"
   ]
  },
  {
   "cell_type": "code",
   "execution_count": 13,
   "id": "7e51104f",
   "metadata": {},
   "outputs": [
    {
     "name": "stdout",
     "output_type": "stream",
     "text": [
      "5\n",
      "15\n",
      "25\n",
      "35\n",
      "45\n"
     ]
    }
   ],
   "source": [
    "#8. 𝗣𝗿𝗶𝗻𝘁 𝗼𝗻𝗹𝘆 𝘁𝗵𝗲 𝗻𝘂𝗺𝗯𝗲𝗿𝘀 𝗲𝗻𝗱𝗶𝗻𝗴 𝗶𝗻 𝟱 𝗳𝗿𝗼𝗺 𝟭 𝘁𝗼 𝟱𝟬۔\n",
    "for num in range(1,51):\n",
    "    if num%5 == 0 and num%10 != 0:\n",
    "        print(num)"
   ]
  },
  {
   "cell_type": "code",
   "execution_count": 14,
   "id": "707fbffe",
   "metadata": {},
   "outputs": [
    {
     "name": "stdout",
     "output_type": "stream",
     "text": [
      "3\n",
      "8\n",
      "3\n"
     ]
    }
   ],
   "source": [
    "#9. 𝗣𝗿𝗶𝗻𝘁 𝘁𝗵𝗲 𝗹𝗲𝗻𝗴𝘁𝗵 𝗼𝗳 𝗲𝗮𝗰𝗵 𝘄𝗼𝗿𝗱 𝗶𝗻 𝘁𝗵𝗲 𝗹𝗶𝘀𝘁 [\"cat\", \"elephant\", \"bat\"]۔\n",
    "animals = [\"cat\", \"elephant\", \"bat\"]\n",
    "for animal in animals:\n",
    "    print(len(animal))"
   ]
  },
  {
   "cell_type": "code",
   "execution_count": 15,
   "id": "4520798e",
   "metadata": {},
   "outputs": [
    {
     "name": "stdout",
     "output_type": "stream",
     "text": [
      "5.333333333333333\n"
     ]
    }
   ],
   "source": [
    "#10.  𝗧𝗮𝗸𝗲 𝟯 𝗻𝘂𝗺𝗯𝗲𝗿𝘀 𝗮𝘀 𝗶𝗻𝗽𝘂𝘁 𝗳𝗿𝗼𝗺 𝘁𝗵𝗲 𝘂𝘀𝗲𝗿 𝗮𝗻𝗱 𝗽𝗿𝗶𝗻𝘁 𝘁𝗵𝗲𝗶𝗿 𝗮𝘃𝗲𝗿𝗮𝗴𝗲۔\n",
    "num1 = int(input(\"Enter first number here: \"))\n",
    "num2 = int(input(\"Enter second number here: \"))\n",
    "num3 = int(input(\"Enter third number here: \"))\n",
    "add_num = num1 + num2 + num3\n",
    "average = add_num / 3\n",
    "print(average)"
   ]
  },
  {
   "cell_type": "code",
   "execution_count": 16,
   "id": "c8ac9f06",
   "metadata": {},
   "outputs": [
    {
     "name": "stdout",
     "output_type": "stream",
     "text": [
      "5 * 10 = 50\n",
      "5 * 9 = 45\n",
      "5 * 8 = 40\n",
      "5 * 7 = 35\n",
      "5 * 6 = 30\n",
      "5 * 5 = 25\n",
      "5 * 4 = 20\n",
      "5 * 3 = 15\n",
      "5 * 2 = 10\n",
      "5 * 1 = 5\n"
     ]
    }
   ],
   "source": [
    "#11. 𝗣𝗿𝗶𝗻𝘁 𝘁𝗵𝗲 𝘁𝗮𝗯𝗹𝗲 𝗼𝗳 𝟱 𝗶𝗻 𝗿𝗲𝘃𝗲𝗿𝘀𝗲 (𝗳𝗿𝗼𝗺 𝟱×𝟭𝟬 𝘁𝗼 𝟱×𝟭)۔\n",
    "for i in range(10, 0, -1):\n",
    "    print(f\"5 * {i} = {5 * i}\")"
   ]
  },
  {
   "cell_type": "code",
   "execution_count": 17,
   "id": "67a23c5b",
   "metadata": {},
   "outputs": [
    {
     "name": "stdout",
     "output_type": "stream",
     "text": [
      "P\n",
      "y\n",
      "t\n",
      "h\n",
      "o\n",
      "n\n",
      " \n",
      "i\n",
      "s\n",
      " \n",
      "f\n",
      "u\n",
      "n\n"
     ]
    }
   ],
   "source": [
    "#12.  𝗨𝘀𝗲 𝗮 𝗳𝗼𝗿 𝗹𝗼𝗼𝗽 𝘁𝗼 𝗽𝗿𝗶𝗻𝘁 𝗮𝗹𝗹 𝗰𝗵𝗮𝗿𝗮𝗰𝘁𝗲𝗿𝘀 𝗶𝗻 \"𝗣𝘆𝘁𝗵𝗼𝗻 𝗜𝘀 𝗙𝘂𝗻\"۔\n",
    "sentence = \"Python is fun\"\n",
    "for letters in sentence:\n",
    "    print(letters)"
   ]
  },
  {
   "cell_type": "code",
   "execution_count": 22,
   "id": "5dd1ad56",
   "metadata": {},
   "outputs": [
    {
     "name": "stdout",
     "output_type": "stream",
     "text": [
      "[5, 13, 56]\n"
     ]
    }
   ],
   "source": [
    "#13. 𝗖𝗿𝗲𝗮𝘁𝗲 𝗮 𝗹𝗶𝘀𝘁 𝗼𝗳 𝗻𝘂𝗺𝗯𝗲𝗿𝘀 𝗮𝗻𝗱 𝗽𝗿𝗶𝗻𝘁 𝗲𝘃𝗲𝗿𝘆 𝘀𝗲𝗰𝗼𝗻𝗱 𝗶𝘁𝗲𝗺۔\n",
    "num_list = [3, 5, 6, 13, 34, 56, 67]\n",
    "print(num_list[1::2])"
   ]
  },
  {
   "cell_type": "code",
   "execution_count": 26,
   "id": "4592faba",
   "metadata": {},
   "outputs": [
    {
     "name": "stdout",
     "output_type": "stream",
     "text": [
      "5\n"
     ]
    }
   ],
   "source": [
    "#14. 𝗧𝗮𝗸𝗲 𝗮 𝘄𝗼𝗿𝗱 𝗳𝗿𝗼𝗺 𝘁𝗵𝗲 𝘂𝘀𝗲𝗿 𝗮𝗻𝗱 𝗰𝗼𝘂𝗻𝘁 𝗵𝗼𝘄 𝗺𝗮𝗻𝘆 𝗰𝗼𝗻𝘀𝗼𝗻𝗮𝗻𝘁𝘀 𝗶𝘁 𝗵𝗮𝘀۔\n",
    "cons = 0\n",
    "word = input(\"Enter a word here: \")\n",
    "for letter in word:\n",
    "  if letter not in \"aeiouAEIOU\":\n",
    "    cons += 1\n",
    "print(cons)\n"
   ]
  },
  {
   "cell_type": "code",
   "execution_count": 27,
   "id": "7d3e01c3",
   "metadata": {},
   "outputs": [
    {
     "name": "stdout",
     "output_type": "stream",
     "text": [
      "1\n",
      "8\n",
      "27\n",
      "64\n",
      "125\n"
     ]
    }
   ],
   "source": [
    "#15. 𝗣𝗿𝗶𝗻𝘁 𝘁𝗵𝗲 𝗰𝘂𝗯𝗲𝘀 𝗼𝗳 𝗻𝘂𝗺𝗯𝗲𝗿𝘀 𝗳𝗿𝗼𝗺 𝟭 𝘁𝗼 𝟱۔\n",
    "for i in range(1, 6):\n",
    "    print(i ** 3)"
   ]
  },
  {
   "cell_type": "code",
   "execution_count": 28,
   "id": "34b4db61",
   "metadata": {},
   "outputs": [
    {
     "name": "stdout",
     "output_type": "stream",
     "text": [
      "ali\n",
      "ahmed\n"
     ]
    }
   ],
   "source": [
    "#16.  𝗧𝗮𝗸𝗲 𝗮 𝗹𝗶𝘀𝘁 𝗼𝗳 𝘄𝗼𝗿𝗱𝘀 𝗮𝗻𝗱 𝗽𝗿𝗶𝗻𝘁 𝘁𝗵𝗼𝘀𝗲 𝘁𝗵𝗮𝘁 𝘀𝘁𝗮𝗿𝘁 𝘄𝗶𝘁𝗵 '𝗮'۔\n",
    "names = [\"ali\", \"ahmed\", \"sara\", \"usman\"]\n",
    "for name in names:\n",
    "    if name.startswith(\"a\"):\n",
    "        print(name)"
   ]
  },
  {
   "cell_type": "code",
   "execution_count": 40,
   "id": "044c2eb8",
   "metadata": {},
   "outputs": [
    {
     "name": "stdout",
     "output_type": "stream",
     "text": [
      "100\n",
      "101\n",
      "102\n",
      "103\n",
      "104\n",
      "106\n",
      "107\n",
      "108\n",
      "109\n",
      "110\n"
     ]
    }
   ],
   "source": [
    "#17. 𝗨𝘀𝗲 𝗮 𝗹𝗼𝗼𝗽 𝘁𝗼 𝗽𝗿𝗶𝗻𝘁 𝗻𝘂𝗺𝗯𝗲𝗿𝘀 𝗯𝗲𝘁𝘄𝗲𝗲𝗻 𝟭𝟬𝟬 𝗮𝗻𝗱 𝟭𝟭𝟬 (𝗲𝘅𝗰𝗹𝘂𝗱𝗶𝗻𝗴 𝟭𝟬𝟱)۔\n",
    "for i in range(100, 111):\n",
    "    if i == 105:\n",
    "        continue\n",
    "    print(i)"
   ]
  },
  {
   "cell_type": "code",
   "execution_count": 41,
   "id": "052894be",
   "metadata": {},
   "outputs": [
    {
     "name": "stdout",
     "output_type": "stream",
     "text": [
      "5\n",
      "10\n",
      "15\n",
      "20\n"
     ]
    }
   ],
   "source": [
    "#18. 𝗣𝗿𝗶𝗻𝘁 𝘁𝗵𝗲 𝗳𝗶𝗿𝘀𝘁 𝟱 𝗽𝗼𝘀𝗶𝘁𝗶𝘃𝗲 𝗺𝘂𝗹𝘁𝗶𝗽𝗹𝗲𝘀 𝗼𝗳 𝟰۔\n",
    "for num in range(1,5):\n",
    "    print(5 * num)"
   ]
  },
  {
   "cell_type": "code",
   "execution_count": 43,
   "id": "b9102278",
   "metadata": {},
   "outputs": [
    {
     "name": "stdout",
     "output_type": "stream",
     "text": [
      "Coding\n",
      "is\n",
      "easy\n"
     ]
    }
   ],
   "source": [
    "#19. 𝗣𝗿𝗶𝗻𝘁 𝗲𝗮𝗰𝗵 𝘄𝗼𝗿𝗱 𝗶𝗻 𝘁𝗵𝗲 𝘀𝗲𝗻𝘁𝗲𝗻𝗰𝗲 \"𝗖𝗼𝗱𝗶𝗻𝗴 𝗶𝘀 𝗲𝗮𝘀𝘆\" 𝗼𝗻 𝗮 𝗻𝗲𝘄 𝗹𝗶𝗻𝗲۔\n",
    "sentence = \"Coding is easy\"\n",
    "words = sentence.split()\n",
    "for word in words:\n",
    "    print(word)"
   ]
  },
  {
   "cell_type": "code",
   "execution_count": 44,
   "id": "218cb47b",
   "metadata": {},
   "outputs": [
    {
     "name": "stdout",
     "output_type": "stream",
     "text": [
      "2\n",
      "4\n",
      "6\n",
      "94\n"
     ]
    }
   ],
   "source": [
    "#20. **𝗖𝗿𝗲𝗮𝘁𝗲 𝗮 𝗻𝘂𝗺𝗯𝗲𝗿 𝗹𝗶𝘀𝘁 𝗮𝗻𝗱 𝗽𝗿𝗶𝗻𝘁 𝗼𝗻𝗹𝘆 𝗲𝘃𝗲𝗻 𝗻𝘂𝗺𝗯𝗲𝗿𝘀 𝘂𝘀𝗶𝗻𝗴 𝗰𝗼𝗻𝗱𝗶𝘁𝗶𝗼𝗻𝘀 𝗶𝗻 𝗹𝗼𝗼𝗽.\n",
    "num_list = [1, 2,4 ,6, 7, 23, 45, 67, 87, 94]\n",
    "for num in num_list:\n",
    "    if num%2 == 0:\n",
    "        print(num)"
   ]
  },
  {
   "cell_type": "code",
   "execution_count": null,
   "id": "ed23632b",
   "metadata": {},
   "outputs": [],
   "source": []
  }
 ],
 "metadata": {
  "kernelspec": {
   "display_name": "Python 3",
   "language": "python",
   "name": "python3"
  },
  "language_info": {
   "codemirror_mode": {
    "name": "ipython",
    "version": 3
   },
   "file_extension": ".py",
   "mimetype": "text/x-python",
   "name": "python",
   "nbconvert_exporter": "python",
   "pygments_lexer": "ipython3",
   "version": "3.12.10"
  }
 },
 "nbformat": 4,
 "nbformat_minor": 5
}
