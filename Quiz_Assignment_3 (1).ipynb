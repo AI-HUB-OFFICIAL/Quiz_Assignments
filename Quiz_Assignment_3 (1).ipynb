{
  "nbformat": 4,
  "nbformat_minor": 0,
  "metadata": {
    "colab": {
      "provenance": []
    },
    "kernelspec": {
      "name": "python3",
      "display_name": "Python 3"
    },
    "language_info": {
      "name": "python"
    }
  },
  "cells": [
    {
      "cell_type": "code",
      "execution_count": 12,
      "metadata": {
        "colab": {
          "base_uri": "https://localhost:8080/"
        },
        "id": "iY4i0ADGAfj-",
        "outputId": "3ab8f1b3-3dde-4f9d-edbd-227835db9709"
      },
      "outputs": [
        {
          "output_type": "stream",
          "name": "stdout",
          "text": [
            "Hello World\n"
          ]
        }
      ],
      "source": [
        "#1. Create a variable greeting and store a message. Print it.\n",
        "greeting = \"Hello World\"\n",
        "print(greeting)"
      ]
    },
    {
      "cell_type": "code",
      "source": [
        "#2. Change the value of greeting and print the new message.\n",
        "greeting = \"Hello AI Hub\"\n",
        "print(greeting)"
      ],
      "metadata": {
        "colab": {
          "base_uri": "https://localhost:8080/"
        },
        "id": "tF4t4dS7A_X7",
        "outputId": "24d22321-e990-4c06-884d-0251caf5a994"
      },
      "execution_count": 13,
      "outputs": [
        {
          "output_type": "stream",
          "name": "stdout",
          "text": [
            "Hello AI Hub\n"
          ]
        }
      ]
    },
    {
      "cell_type": "code",
      "source": [
        "#3. Create first_name and last_name, then print full name using f-string.\n",
        "first_name = \"Nehan\"\n",
        "last_name = \"Mustafa\"\n",
        "print(f\"{first_name} {last_name}\")#combined the full name by f-string.\n"
      ],
      "metadata": {
        "colab": {
          "base_uri": "https://localhost:8080/"
        },
        "id": "sU3ehNTfBOhm",
        "outputId": "938cce37-ca37-4722-c18a-222e3699c3b1"
      },
      "execution_count": 14,
      "outputs": [
        {
          "output_type": "stream",
          "name": "stdout",
          "text": [
            "Nehan Mustafa\n"
          ]
        }
      ]
    },
    {
      "cell_type": "code",
      "source": [
        "#4. Print a famous quote with author’s name using f-string.\n",
        "author = \"Quaid-e-Azam Muhammad Ali Jinnah\"\n",
        "print(f' \"Failure is the word unknown to me\"\\n Author:\"{author}\"')#combined the quote and author's name using f-string\n"
      ],
      "metadata": {
        "colab": {
          "base_uri": "https://localhost:8080/"
        },
        "id": "LnXMEqfiCHfK",
        "outputId": "1e0b746c-f034-4e46-e480-3e02509ae38a"
      },
      "execution_count": 15,
      "outputs": [
        {
          "output_type": "stream",
          "name": "stdout",
          "text": [
            " \"Failure is the word unknown to me\"\n",
            " Author:\"Quaid-e-Azam Muhammad Ali Jinnah\"\n"
          ]
        }
      ]
    },
    {
      "cell_type": "code",
      "source": [
        "#5. Store a name with extra spaces, strip them, and print clean output.\n",
        "name = \"          Nehan Mustafa   \"\n",
        "print(name)\n",
        "print(name.strip())"
      ],
      "metadata": {
        "colab": {
          "base_uri": "https://localhost:8080/"
        },
        "id": "CGO8gf0xDoyS",
        "outputId": "5acc0d98-9bde-4dcf-b66a-74283c21de10"
      },
      "execution_count": 16,
      "outputs": [
        {
          "output_type": "stream",
          "name": "stdout",
          "text": [
            "          Nehan Mustafa   \n",
            "Nehan Mustafa\n"
          ]
        }
      ]
    },
    {
      "cell_type": "code",
      "source": [
        "#6. Take a number, add 5, multiply by 2, subtract 3, and print the result.\n",
        "num = 2\n",
        "#there can be two possible situation according to the statement.\n",
        "# No.1 Without BODMAS rule.\n",
        "result1 = (num + 5) * 2 - 3\n",
        "print(result1)\n",
        "# No.2 With BODMAS rule.\n",
        "result2 = num + 5 * 2 - 3\n",
        "print(result2)"
      ],
      "metadata": {
        "colab": {
          "base_uri": "https://localhost:8080/"
        },
        "id": "uz5MCiUTHGRx",
        "outputId": "74a52fe9-ace5-421b-8b90-1399f6603a73"
      },
      "execution_count": 17,
      "outputs": [
        {
          "output_type": "stream",
          "name": "stdout",
          "text": [
            "11\n",
            "9\n"
          ]
        }
      ]
    },
    {
      "cell_type": "code",
      "source": [
        "#7. Create a and b; print their sum, difference, product, and quotient.\n",
        "a = 6\n",
        "b = 5\n",
        "print(a + b)#Sum\n",
        "print(a - b)#Difference\n",
        "print(a * b)#Product\n",
        "print(a / b)#Quotient"
      ],
      "metadata": {
        "colab": {
          "base_uri": "https://localhost:8080/"
        },
        "id": "C4xHLl7VJVP8",
        "outputId": "c73935df-1fab-4da0-ac60-1684c2268210"
      },
      "execution_count": 18,
      "outputs": [
        {
          "output_type": "stream",
          "name": "stdout",
          "text": [
            "11\n",
            "1\n",
            "30\n",
            "1.2\n"
          ]
        }
      ]
    },
    {
      "cell_type": "code",
      "source": [
        "#8. Find square and cube of a number using ** operator.\n",
        "num = 5\n",
        "print(num ** 2)#Square\n",
        "print(num ** 3)#Cube"
      ],
      "metadata": {
        "colab": {
          "base_uri": "https://localhost:8080/"
        },
        "id": "ls3oR3F2KG4e",
        "outputId": "f305e30c-b1b5-4dce-e7ae-e1da28f17c53"
      },
      "execution_count": 19,
      "outputs": [
        {
          "output_type": "stream",
          "name": "stdout",
          "text": [
            "25\n",
            "125\n"
          ]
        }
      ]
    },
    {
      "cell_type": "code",
      "source": [
        "#9. Add three floating-point numbers and print the total.\n",
        "num1 = 4.67\n",
        "num2 = 5.33\n",
        "num3 = 7.39\n",
        "total = num1 + num2 + num3 #Adding all three numbers\n",
        "print(total)"
      ],
      "metadata": {
        "colab": {
          "base_uri": "https://localhost:8080/"
        },
        "id": "vOG4OBX6Kejd",
        "outputId": "33d71eb0-5288-4afa-d72d-85f661c602cc"
      },
      "execution_count": 20,
      "outputs": [
        {
          "output_type": "stream",
          "name": "stdout",
          "text": [
            "17.39\n"
          ]
        }
      ]
    },
    {
      "cell_type": "code",
      "source": [
        "#10. Assign x, y, z in one line and print them.\n",
        "x, y, z = 4, 6, \"Hello World\"\n",
        "print(x, y, z)"
      ],
      "metadata": {
        "colab": {
          "base_uri": "https://localhost:8080/"
        },
        "id": "e93nLUs9Lmyv",
        "outputId": "ce618524-03a3-4c38-e191-5e01dbd04035"
      },
      "execution_count": 21,
      "outputs": [
        {
          "output_type": "stream",
          "name": "stdout",
          "text": [
            "4 6 Hello World\n"
          ]
        }
      ]
    },
    {
      "cell_type": "code",
      "source": [
        "#11. Create a list of 5 favorite fruits and print each one separately.\n",
        "fruits = [\"mango\", \"banana\", \"apple\", \"apricot\", \"watermelon\"]\n",
        "for fruit in fruits:  #using for loop to print each fruit separately.\n",
        "    print(fruit)"
      ],
      "metadata": {
        "colab": {
          "base_uri": "https://localhost:8080/"
        },
        "id": "EAJkcGv9Y6qG",
        "outputId": "4cc3926b-6a9e-4d84-c4ff-9d326b3511e9"
      },
      "execution_count": 22,
      "outputs": [
        {
          "output_type": "stream",
          "name": "stdout",
          "text": [
            "mango\n",
            "banana\n",
            "apple\n",
            "apricot\n",
            "watermelon\n"
          ]
        }
      ]
    },
    {
      "cell_type": "code",
      "source": [
        "#12. Modify the 2nd item in the list and print the updated list.\n",
        "fruits[1] = \"cherry\"\n",
        "print(fruits)"
      ],
      "metadata": {
        "colab": {
          "base_uri": "https://localhost:8080/"
        },
        "id": "05axoW1nY-Vb",
        "outputId": "d32df2c5-afd4-44af-b45e-665ae6924e44"
      },
      "execution_count": 23,
      "outputs": [
        {
          "output_type": "stream",
          "name": "stdout",
          "text": [
            "['mango', 'cherry', 'apple', 'apricot', 'watermelon']\n"
          ]
        }
      ]
    },
    {
      "cell_type": "code",
      "source": [
        "#13. Append a new fruit and insert one at the beginning.\n",
        "fruits.append(\"grapes\") #appending an item at the last.\n",
        "print(fruits)\n",
        "fruits.insert(0, \"peach\")# inserting an item at the beginning by writing the index.\n",
        "print(fruits)"
      ],
      "metadata": {
        "colab": {
          "base_uri": "https://localhost:8080/"
        },
        "id": "0MWW_Ru7ZBfu",
        "outputId": "294b697f-ccd8-4c95-adf8-951656c685f5"
      },
      "execution_count": 24,
      "outputs": [
        {
          "output_type": "stream",
          "name": "stdout",
          "text": [
            "['mango', 'cherry', 'apple', 'apricot', 'watermelon', 'grapes']\n",
            "['peach', 'mango', 'cherry', 'apple', 'apricot', 'watermelon', 'grapes']\n"
          ]
        }
      ]
    },
    {
      "cell_type": "code",
      "source": [
        "#14. Delete items using del, pop(), and remove().\n",
        "del fruits[0]#using del and index to delete an item.\n",
        "print(fruits)\n",
        "removed_item = fruits.pop(2)\n",
        "print(removed_item)#pop() shows the removed item from the list.\n",
        "print(fruits)\n",
        "fruits.remove(\"cherry\")#remove() deletes the specified item from the list.\n",
        "print(fruits)"
      ],
      "metadata": {
        "colab": {
          "base_uri": "https://localhost:8080/"
        },
        "id": "aWS6NQDjZIYZ",
        "outputId": "e49779e2-7441-4978-afae-8239a20173e1"
      },
      "execution_count": 25,
      "outputs": [
        {
          "output_type": "stream",
          "name": "stdout",
          "text": [
            "['mango', 'cherry', 'apple', 'apricot', 'watermelon', 'grapes']\n",
            "apple\n",
            "['mango', 'cherry', 'apricot', 'watermelon', 'grapes']\n",
            "['mango', 'apricot', 'watermelon', 'grapes']\n"
          ]
        }
      ]
    },
    {
      "cell_type": "code",
      "source": [
        "#15. Use sort() and sorted() to sort the list. Show before and after.\n",
        "print(\"Before: \", fruits)\n",
        "fruits.sort()\n",
        "print(\"After sort(): \", fruits)#sorts the list alphabetically\n",
        "print(\"After sorted(): \", sorted(fruits))"
      ],
      "metadata": {
        "colab": {
          "base_uri": "https://localhost:8080/"
        },
        "id": "2xTEk9S_ZLmY",
        "outputId": "a48beb5d-1fec-4661-a0db-2b899e8baa83"
      },
      "execution_count": 26,
      "outputs": [
        {
          "output_type": "stream",
          "name": "stdout",
          "text": [
            "Before:  ['mango', 'apricot', 'watermelon', 'grapes']\n",
            "After sort():  ['apricot', 'grapes', 'mango', 'watermelon']\n",
            "After sorted():  ['apricot', 'grapes', 'mango', 'watermelon']\n"
          ]
        }
      ]
    },
    {
      "cell_type": "code",
      "source": [
        "#16. Create a list of dream travel destinations:\n",
        "#  - Sort alphabetically\n",
        "#  - Reverse the order\n",
        "#  - Count total destinations\n",
        "dream_travel_dests = [\"Makkah\", \"Madinah\", \"Switzerland\", \"Kashmir\"]\n",
        "dream_travel_dests.sort()\n",
        "print(dream_travel_dests)\n",
        "dream_travel_dests.reverse()\n",
        "print(dream_travel_dests)\n",
        "print(len(dream_travel_dests))"
      ],
      "metadata": {
        "colab": {
          "base_uri": "https://localhost:8080/"
        },
        "id": "sUTLjVe7ZQwM",
        "outputId": "7ae2c14b-8eee-4fbc-9ba9-4d6d853dee21"
      },
      "execution_count": 27,
      "outputs": [
        {
          "output_type": "stream",
          "name": "stdout",
          "text": [
            "['Kashmir', 'Madinah', 'Makkah', 'Switzerland']\n",
            "['Switzerland', 'Makkah', 'Madinah', 'Kashmir']\n",
            "4\n"
          ]
        }
      ]
    },
    {
      "cell_type": "code",
      "source": [
        "#17. Start with an empty guest list:\n",
        "#  - Append 3 guests\n",
        "#  - Insert 1 at the beginning\n",
        "#  - Remove one using pop()\n",
        "#  - Print final list\n",
        "guest_list = []\n",
        "guest_list.append(\"Aslam\")\n",
        "guest_list.append(\"Hasan\")\n",
        "guest_list.append(\"Ali\")\n",
        "print(guest_list)\n",
        "guest_list.insert(0, \"Usman\")#writing index to insert item in the beginning\n",
        "print(guest_list)\n",
        "removed_item = guest_list.pop(1)\n",
        "print(removed_item)\n",
        "print(guest_list)"
      ],
      "metadata": {
        "colab": {
          "base_uri": "https://localhost:8080/"
        },
        "id": "90RhqYmVZVHE",
        "outputId": "b4d7b2b5-eabf-4dc9-ecb7-243f18f7edbb"
      },
      "execution_count": 28,
      "outputs": [
        {
          "output_type": "stream",
          "name": "stdout",
          "text": [
            "['Aslam', 'Hasan', 'Ali']\n",
            "['Usman', 'Aslam', 'Hasan', 'Ali']\n",
            "Aslam\n",
            "['Usman', 'Hasan', 'Ali']\n"
          ]
        }
      ]
    },
    {
      "cell_type": "code",
      "source": [
        "#18. Access the last 3 elements of a list without negative indexing.\n",
        "my_list = [5, 6, 8, 9, 11]\n",
        "print(my_list[2:])#slicing the list to print last 3 elements"
      ],
      "metadata": {
        "colab": {
          "base_uri": "https://localhost:8080/"
        },
        "id": "j569RTX0ZZ_U",
        "outputId": "790b18c4-2df9-47bb-dab8-32d60cf83832"
      },
      "execution_count": 29,
      "outputs": [
        {
          "output_type": "stream",
          "name": "stdout",
          "text": [
            "[8, 9, 11]\n"
          ]
        }
      ]
    },
    {
      "cell_type": "code",
      "source": [
        "#19. From a list of numbers, print only even numbers.\n",
        "num_list = [1, 2, 6, 15, 16, 20, 23]\n",
        "even = []\n",
        "for num in num_list: #using for loop to access each item seperatly\n",
        "    if num%2 == 0:\n",
        "        even.append(num)\n",
        "print(even)"
      ],
      "metadata": {
        "colab": {
          "base_uri": "https://localhost:8080/"
        },
        "id": "oAJorbCKZg6L",
        "outputId": "73417180-71eb-440a-ba10-2d674a3acf84"
      },
      "execution_count": 30,
      "outputs": [
        {
          "output_type": "stream",
          "name": "stdout",
          "text": [
            "[2, 6, 16, 20]\n"
          ]
        }
      ]
    },
    {
      "cell_type": "code",
      "source": [
        "#20. Print squares of the first 10 natural numbers in a list.\n",
        "square_list = []\n",
        "for num in range(1, 11):\n",
        "    squares = num**2\n",
        "    square_list.append(squares)\n",
        "print(square_list)"
      ],
      "metadata": {
        "colab": {
          "base_uri": "https://localhost:8080/"
        },
        "id": "IvbQpuTIZkJk",
        "outputId": "d44b6199-c506-4fd0-ebd2-f9597b163294"
      },
      "execution_count": 31,
      "outputs": [
        {
          "output_type": "stream",
          "name": "stdout",
          "text": [
            "[1, 4, 9, 16, 25, 36, 49, 64, 81, 100]\n"
          ]
        }
      ]
    },
    {
      "cell_type": "markdown",
      "source": [
        "Bonus challenge"
      ],
      "metadata": {
        "id": "luAIbmjxZoU0"
      }
    },
    {
      "cell_type": "code",
      "source": [
        "#Ask the user for 5 favorite movies.\n",
        "#Store them in a list.\n",
        "#Print them sorted alphabetically.\n",
        "movie1 = input(\"Enter first movie here: \")\n",
        "movie2 = input(\"Enter second movie here: \")\n",
        "movie3 = input(\"Enter third movie here: \")\n",
        "movie4 = input(\"Enter fourth movie here: \")\n",
        "movie5 = input(\"Enter fifth movie here: \")\n",
        "movie_list = [movie1, movie2, movie3, movie4, movie5]\n",
        "print(sorted(movie_list))"
      ],
      "metadata": {
        "colab": {
          "base_uri": "https://localhost:8080/"
        },
        "id": "FoAeyoBVZwAs",
        "outputId": "19385e35-c5b0-458a-ec75-f545378bd3ac"
      },
      "execution_count": 32,
      "outputs": [
        {
          "output_type": "stream",
          "name": "stdout",
          "text": [
            "Enter first movie here: It\n",
            "Enter second movie here: Saw\n",
            "Enter third movie here: Avengers: The end game\n",
            "Enter fourth movie here: KGF\n",
            "Enter fifth movie here: Three Idiots\n",
            "['Avengers: The end game', 'It', 'KGF', 'Saw', 'Three Idiots']\n"
          ]
        }
      ]
    }
  ]
}