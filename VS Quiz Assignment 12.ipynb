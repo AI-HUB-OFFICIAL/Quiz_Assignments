{
 "cells": [
  {
   "cell_type": "code",
   "execution_count": 1,
   "id": "828b04ee",
   "metadata": {},
   "outputs": [
    {
     "name": "stdout",
     "output_type": "stream",
     "text": [
      "120\n"
     ]
    },
    {
     "data": {
      "text/plain": [
       "4"
      ]
     },
     "execution_count": 1,
     "metadata": {},
     "output_type": "execute_result"
    }
   ],
   "source": [
    "#1. 𝗜𝗺𝗽𝗼𝗿𝘁 math 𝗺𝗼𝗱𝘂𝗹𝗲 𝗮𝗻𝗱 𝘂𝘀𝗲 math.factorial() 𝘁𝗼 𝗳𝗶𝗻𝗱 𝗳𝗮𝗰𝘁𝗼𝗿𝗶𝗮𝗹. 𝗖𝗿𝗲𝗮𝘁𝗲 𝗮 𝗳𝘂𝗻𝗰𝘁𝗶𝗼𝗻 double(n) 𝘁𝗼 𝗿𝗲𝘁𝘂𝗿𝗻 𝘁𝘄𝗶𝗰𝗲 𝘁𝗵𝗲 𝗶𝗻𝗽𝘂𝘁. 𝗖𝗮𝗹𝗹 𝗯𝗼𝘁𝗵 𝗳𝘂𝗻𝗰𝘁𝗶𝗼𝗻𝘀.\n",
    "import math\n",
    "print(math.factorial(5))\n",
    "def double(n):\n",
    "    '''This fiction returns twice a number'''\n",
    "    return n * 2\n",
    "double(2)"
   ]
  },
  {
   "cell_type": "code",
   "execution_count": 2,
   "id": "f3e56e8a",
   "metadata": {},
   "outputs": [
    {
     "name": "stdout",
     "output_type": "stream",
     "text": [
      "2\n",
      "5\n"
     ]
    },
    {
     "data": {
      "text/plain": [
       "'Hello Nehan!'"
      ]
     },
     "execution_count": 2,
     "metadata": {},
     "output_type": "execute_result"
    }
   ],
   "source": [
    "#2. 𝗜𝗺𝗽𝗼𝗿𝘁 random 𝗮𝗻𝗱 𝘂𝘀𝗲 random.choice() 𝗼𝗻 𝗮 𝗹𝗶𝘀𝘁. 𝗗𝗲𝗳𝗶𝗻𝗲 greet(name) 𝘁𝗼 𝗽𝗿𝗶𝗻𝘁 𝗮 𝗴𝗿𝗲𝗲𝘁𝗶𝗻𝗴. 𝗨𝘀𝗲 len() 𝘁𝗼 𝗽𝗿𝗶𝗻𝘁 𝘁𝗵𝗲 𝗹𝗶𝘀𝘁 𝗹𝗲𝗻𝗴𝘁𝗵.\n",
    "import random\n",
    "my_list = [1, 2, 5, 7, 8]\n",
    "print(random.choice(my_list))\n",
    "print(len(my_list))\n",
    "def greet(name):\n",
    "    '''This function prints a greeting message.'''\n",
    "    return(f\"Hello {name}!\")\n",
    "greet(\"Nehan\")"
   ]
  },
  {
   "cell_type": "code",
   "execution_count": 3,
   "id": "c7735880",
   "metadata": {},
   "outputs": [
    {
     "name": "stdout",
     "output_type": "stream",
     "text": [
      "158\n",
      "39.5\n"
     ]
    },
    {
     "data": {
      "text/plain": [
       "'It is an even number'"
      ]
     },
     "execution_count": 3,
     "metadata": {},
     "output_type": "execute_result"
    }
   ],
   "source": [
    "#3. 𝗨𝘀𝗲 sum() 𝘁𝗼 𝗮𝗱𝗱 𝗹𝗶𝘀𝘁 𝗲𝗹𝗲𝗺𝗲𝗻𝘁𝘀. 𝗜𝗺𝗽𝗼𝗿𝘁 statistics 𝗮𝗻𝗱 𝘂𝘀𝗲 mean(). 𝗖𝗿𝗲𝗮𝘁𝗲 is_even(num) 𝘁𝗼 𝗰𝗵𝗲𝗰𝗸 𝗲𝘃𝗲𝗻 𝗻𝘂𝗺𝗯𝗲𝗿𝘀.\n",
    "import statistics\n",
    "my_list = [23, 34, 45, 56]\n",
    "print(sum(my_list))\n",
    "print(statistics.mean(my_list))\n",
    "def is_even(num):\n",
    "    '''this function checks even numbers'''\n",
    "    if num%2 == 0:\n",
    "        return \"It is an even number\"\n",
    "is_even(6)"
   ]
  },
  {
   "cell_type": "code",
   "execution_count": 4,
   "id": "553e858f",
   "metadata": {},
   "outputs": [
    {
     "name": "stdout",
     "output_type": "stream",
     "text": [
      "2025-07-11 13:35:44.590020\n",
      "Hello! World\n",
      "<class 'function'>\n"
     ]
    }
   ],
   "source": [
    "#4. 𝗜𝗺𝗽𝗼𝗿𝘁 datetime 𝗮𝗻𝗱 𝗽𝗿𝗶𝗻𝘁 𝗰𝘂𝗿𝗿𝗲𝗻𝘁 𝗱𝗮𝘁𝗲 & 𝘁𝗶𝗺𝗲 𝘂𝘀𝗶𝗻𝗴 datetime.now(). 𝗖𝗿𝗲𝗮𝘁𝗲 say_hello() 𝗳𝘂𝗻𝗰𝘁𝗶𝗼𝗻. 𝗖𝗵𝗲𝗰𝗸 𝗮 𝘃𝗮𝗿𝗶𝗮𝗯𝗹𝗲’𝘀 𝘁𝘆𝗽𝗲 𝘄𝗶𝘁𝗵 type().\n",
    "import datetime\n",
    "print(datetime.datetime.now())\n",
    "def say_hello():\n",
    "    '''this function says Hello'''\n",
    "    return \"Hello! World\"\n",
    "print(say_hello())\n",
    "print(type(say_hello))"
   ]
  },
  {
   "cell_type": "code",
   "execution_count": 5,
   "id": "33f0f8cf",
   "metadata": {},
   "outputs": [
    {
     "name": "stdout",
     "output_type": "stream",
     "text": [
      "3.141592653589793\n"
     ]
    },
    {
     "data": {
      "text/plain": [
       "78.53981633974483"
      ]
     },
     "execution_count": 5,
     "metadata": {},
     "output_type": "execute_result"
    }
   ],
   "source": [
    "#5. 𝗖𝗿𝗲𝗮𝘁𝗲 area_of_circle(radius) 𝘂𝘀𝗶𝗻𝗴 𝝅r². 𝗜𝗺𝗽𝗼𝗿𝘁 math 𝗮𝗻𝗱 𝘂𝘀𝗲 math.pi. 𝗣𝗿𝗶𝗻𝘁 𝘁𝗵𝗲 𝗮𝗿𝗲𝗮 𝗮𝗻𝗱 𝗰𝗵𝗲𝗰𝗸 𝘁𝘆𝗽𝗲.\n",
    "import math\n",
    "print(math.pi)\n",
    "def area_of_circle(radius):\n",
    "    '''this function returns the area of a circle'''\n",
    "    return math.pi*(radius**2)\n",
    "area_of_circle(5)"
   ]
  },
  {
   "cell_type": "code",
   "execution_count": 6,
   "id": "0b3aba93",
   "metadata": {},
   "outputs": [
    {
     "name": "stdout",
     "output_type": "stream",
     "text": [
      "32\n"
     ]
    },
    {
     "data": {
      "text/plain": [
       "'89 is greater than 50'"
      ]
     },
     "execution_count": 6,
     "metadata": {},
     "output_type": "execute_result"
    }
   ],
   "source": [
    "#6. 𝗜𝗺𝗽𝗼𝗿𝘁 random. 𝗚𝗲𝗻𝗲𝗿𝗮𝘁𝗲 𝗮 𝗿𝗮𝗻𝗱𝗼𝗺 𝗻𝘂𝗺𝗯𝗲𝗿 𝘂𝘀𝗶𝗻𝗴 randint(10, 100). 𝗗𝗲𝗳𝗶𝗻𝗲 check_number(num) 𝘁𝗼 𝗰𝗵𝗲𝗰𝗸 𝗶𝗳 𝗴𝗿𝗲𝗮𝘁𝗲𝗿 𝘁𝗵𝗮𝗻 𝟱𝟬.\n",
    "import random\n",
    "print(random.randint(10, 100))\n",
    "def check_number(num):\n",
    "    '''This function checks a number greater than 50'''\n",
    "    if num > 50:\n",
    "        return(f\"{num} is greater than 50\")\n",
    "check_number(89)"
   ]
  },
  {
   "cell_type": "code",
   "execution_count": 7,
   "id": "6db61485",
   "metadata": {},
   "outputs": [
    {
     "name": "stdout",
     "output_type": "stream",
     "text": [
      "89\n",
      "81.0\n",
      "Name: Faizan, Age: 40\n"
     ]
    }
   ],
   "source": [
    "#7. Use the built-in function max() to find the largest number in a list. Import math and use math.pow(x, y) to compute x raised to power y. Define your own function display_info() that prints a user’s name and age\n",
    "num_list=[23,45,67,89]\n",
    "print(max(num_list))\n",
    "import math\n",
    "print(math.pow(3, 4))\n",
    "def display_info(name, age):\n",
    "  '''This function returns the user's name and age'''\n",
    "  return f'Name: {name}, Age: {age}'\n",
    "print(display_info(\"Faizan\", 40))\n",
    "     "
   ]
  },
  {
   "cell_type": "code",
   "execution_count": 8,
   "id": "01b6b736",
   "metadata": {},
   "outputs": [
    {
     "name": "stdout",
     "output_type": "stream",
     "text": [
      "      May 2025\n",
      "Mo Tu We Th Fr Sa Su\n",
      "          1  2  3  4\n",
      " 5  6  7  8  9 10 11\n",
      "12 13 14 15 16 17 18\n",
      "19 20 21 22 23 24 25\n",
      "26 27 28 29 30 31\n",
      "\n",
      "138\n",
      "Good morning\n"
     ]
    }
   ],
   "source": [
    "#8. 𝗜𝗺𝗽𝗼𝗿𝘁 calendar. 𝗣𝗿𝗶𝗻𝘁 𝗠𝗮𝘆 𝟮𝟬𝟮𝟱 𝘂𝘀𝗶𝗻𝗴 calendar.month(2025, 5). 𝗖𝗼𝘂𝗻𝘁 𝗰𝗵𝗮𝗿𝗮𝗰𝘁𝗲𝗿𝘀 𝘄𝗶𝘁𝗵 len(). 𝗗𝗲𝗳𝗶𝗻𝗲 show_message().\n",
    "import calendar\n",
    "print(calendar.month(2025, 5))\n",
    "print(len(calendar.month(2025, 5)))\n",
    "def show_message():\n",
    "    '''This function returns a greeting function'''\n",
    "    return \"Good morning\"\n",
    "print(show_message())"
   ]
  },
  {
   "cell_type": "code",
   "execution_count": 9,
   "id": "116ae728",
   "metadata": {},
   "outputs": [
    {
     "name": "stdout",
     "output_type": "stream",
     "text": [
      "c:\\Users\\lenovo\\Documents\n",
      "34\n"
     ]
    },
    {
     "data": {
      "text/plain": [
       "35"
      ]
     },
     "execution_count": 9,
     "metadata": {},
     "output_type": "execute_result"
    }
   ],
   "source": [
    "#9. 𝗜𝗺𝗽𝗼𝗿𝘁 os, 𝗽𝗿𝗶𝗻𝘁 𝗰𝘂𝗿𝗿𝗲𝗻𝘁 𝗱𝗶𝗿 𝘂𝘀𝗶𝗻𝗴 os.getcwd(). 𝗖𝗼𝗻𝘃𝗲𝗿𝘁 𝗶𝗻𝘁 𝘁𝗼 𝘀𝘁𝗿𝗶𝗻𝗴 𝘄𝗶𝘁𝗵 str(). 𝗖𝗿𝗲𝗮𝘁𝗲 multiply(x, y) 𝘁𝗼 𝗿𝗲𝘁𝘂𝗿𝗻 𝗽𝗿𝗼𝗱𝘂𝗰𝘁.\n",
    "import os\n",
    "print(os.getcwd())\n",
    "print(str(34))\n",
    "def multiply(x, y):\n",
    "    '''This function returns product of two numbers.'''\n",
    "    return x * y\n",
    "multiply(5, 7)"
   ]
  },
  {
   "cell_type": "code",
   "execution_count": 10,
   "id": "f421bb38",
   "metadata": {},
   "outputs": [
    {
     "name": "stdout",
     "output_type": "stream",
     "text": [
      "<class 'int'>\n"
     ]
    },
    {
     "data": {
      "text/plain": [
       "2.8284271247461903"
      ]
     },
     "execution_count": 10,
     "metadata": {},
     "output_type": "execute_result"
    }
   ],
   "source": [
    "#10. 𝗗𝗲𝗳𝗶𝗻𝗲 calculate_square_root(num) 𝘂𝘀𝗶𝗻𝗴 math.sqrt(). 𝗧𝗮𝗸𝗲 𝘂𝘀𝗲𝗿 𝗶𝗻𝗽𝘂𝘁, 𝗰𝗼𝗻𝘃𝗲𝗿𝘁 𝘁𝗼 int, 𝗰𝗵𝗲𝗰𝗸 𝘁𝘆𝗽𝗲, 𝗮𝗻𝗱 𝗽𝗿𝗶𝗻𝘁 𝘀𝗾𝘂𝗮𝗿𝗲 𝗿𝗼𝗼𝘁.\n",
    "import math\n",
    "num_str = input(\"Enter a number here: \")\n",
    "num = int(num_str)\n",
    "print(type(num))\n",
    "def calculate_square_root(num):\n",
    "    '''This function prints the square root of a number.'''\n",
    "    return math.sqrt(num)\n",
    "calculate_square_root(num)"
   ]
  }
 ],
 "metadata": {
  "kernelspec": {
   "display_name": "Python 3",
   "language": "python",
   "name": "python3"
  },
  "language_info": {
   "codemirror_mode": {
    "name": "ipython",
    "version": 3
   },
   "file_extension": ".py",
   "mimetype": "text/x-python",
   "name": "python",
   "nbconvert_exporter": "python",
   "pygments_lexer": "ipython3",
   "version": "3.12.10"
  }
 },
 "nbformat": 4,
 "nbformat_minor": 5
}
