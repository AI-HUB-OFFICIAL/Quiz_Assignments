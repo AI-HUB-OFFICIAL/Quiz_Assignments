{
  "nbformat": 4,
  "nbformat_minor": 0,
  "metadata": {
    "colab": {
      "provenance": []
    },
    "kernelspec": {
      "name": "python3",
      "display_name": "Python 3"
    },
    "language_info": {
      "name": "python"
    }
  },
  "cells": [
    {
      "cell_type": "code",
      "source": [
        "#1. Use @dataclass to define a Person class with name, age, and email. Instantiate and display automatically generated _repr_() output.\n",
        "#2. Add default values to fields, and override _post_init_() to validate age > 0\n",
        "from dataclasses import dataclass\n",
        "@dataclass\n",
        "class Person:\n",
        "  name: str = \"Ahmed\"\n",
        "  age: int = 20\n",
        "  email: str = \"Ahmed@example.com\"\n",
        "  def __post_init__(self):\n",
        "    self.valid_age = self.age > 0\n",
        "    print(\"Post init...\")\n",
        "p1 = Person(\"Ali\",23,\"Ali@example.com\")\n",
        "print(p1)\n",
        "p2 = Person(name=\"Usman\", email=\"Usman@example.com\")\n",
        "print(p2)\n",
        "p2.valid_age\n"
      ],
      "metadata": {
        "colab": {
          "base_uri": "https://localhost:8080/"
        },
        "id": "aSD95V38kGvR",
        "outputId": "c485769f-f4af-48b3-c4b1-7e93403381d0"
      },
      "execution_count": 17,
      "outputs": [
        {
          "output_type": "stream",
          "name": "stdout",
          "text": [
            "Post init...\n",
            "Person(name='Ali', age=23, email='Ali@example.com')\n",
            "Post init...\n",
            "Person(name='Usman', age=20, email='Usman@example.com')\n"
          ]
        },
        {
          "output_type": "execute_result",
          "data": {
            "text/plain": [
              "True"
            ]
          },
          "metadata": {},
          "execution_count": 17
        }
      ]
    },
    {
      "cell_type": "code",
      "source": [
        "#3. Implement a Book dataclass with title and author, plus a classmethod from_dict() to create instances from dictionaries.\n",
        "from dataclasses import dataclass\n",
        "@dataclass\n",
        "class Book:\n",
        "  title: str\n",
        "  author: str\n",
        "  @classmethod\n",
        "  def from_dict(cls, data: dict):\n",
        "    return cls(title=data.get(\"title\", \"Unknown title\"), author=data.get(\"author\", \"Unknwon author\"))\n",
        "b1_data = {\"title\": \"Alif\", \"author\": \"Umera Ahmed\"}\n",
        "b1 = Book.from_dict(b1_data)\n",
        "print(b1)"
      ],
      "metadata": {
        "colab": {
          "base_uri": "https://localhost:8080/"
        },
        "id": "yIRj8X9ulHU_",
        "outputId": "9fec4c48-6fc1-4fc2-a8fa-68187fe3732d"
      },
      "execution_count": 27,
      "outputs": [
        {
          "output_type": "stream",
          "name": "stdout",
          "text": [
            "Book(title='Alif', author='Umera Ahmed')\n"
          ]
        }
      ]
    },
    {
      "cell_type": "code",
      "source": [
        "#4. Define a metaclass TrackInstances that tracks all instances of classes using it, and apply to a sample class Tracker.\n",
        "#5. Create two instances of Tracker and print a list of all tracked instances.\n",
        "#7.  Use metaclass to auto-add a created_at timestamp attribute to any instance upon its creation.\n",
        "from datetime import datetime\n",
        "class TrackInstances(type):\n",
        "  def __call__(cls, *args, **kwargs):\n",
        "    instance = super().__call__(*args, **kwargs)\n",
        "    if not hasattr(cls, \"_instances\"):\n",
        "      cls._instances = []\n",
        "    cls._instances.append(instance)\n",
        "    instance.creation_time = datetime.now()\n",
        "    return instance\n",
        "class Tracker(metaclass=TrackInstances):\n",
        "  def __init__(self, name):\n",
        "    self.name = name\n",
        "t1 = Tracker(\"First\")\n",
        "t2 = Tracker(\"Second\")\n",
        "print(Tracker._instances)\n",
        "for obj in Tracker._instances:\n",
        "  print(f\"Object name: {obj.name}, Created at: {obj.creation_time}\")\n",
        "\n",
        "\n"
      ],
      "metadata": {
        "colab": {
          "base_uri": "https://localhost:8080/"
        },
        "id": "ZQC-K2TCo8QE",
        "outputId": "cdfada5d-1fb5-40b2-cfb3-c3b1612a1e8d"
      },
      "execution_count": 33,
      "outputs": [
        {
          "output_type": "stream",
          "name": "stdout",
          "text": [
            "[<__main__.Tracker object at 0x77ff92eb5520>, <__main__.Tracker object at 0x77ff92eb7860>]\n",
            "Object name: First, Created at: 2025-08-29 07:42:29.791416\n",
            "Object name: Second, Created at: 2025-08-29 07:42:29.791454\n"
          ]
        }
      ]
    },
    {
      "cell_type": "code",
      "source": [
        "#6. Demonstrate frozen=True in a dataclass ImmutablePoint(x, y) and illustrate behavior upon mutation attempt (should raise an error).\n",
        "from dataclasses import FrozenInstanceError, dataclass\n",
        "@dataclass(frozen=True)\n",
        "class ImmutablePoint:\n",
        "  x: int\n",
        "  y: int\n",
        "p1 = ImmutablePoint(3, 4)\n",
        "print(p1)\n",
        "try:\n",
        "  p1.x = 4\n",
        "  print(p1)\n",
        "except FrozenInstanceError as e:\n",
        "  print(\"FrozenInstanceError\", \":\",  e)"
      ],
      "metadata": {
        "colab": {
          "base_uri": "https://localhost:8080/"
        },
        "id": "Z853Oufasm8c",
        "outputId": "54ede00b-c50a-4b64-931c-c467f9538430"
      },
      "execution_count": 30,
      "outputs": [
        {
          "output_type": "stream",
          "name": "stdout",
          "text": [
            "ImmutablePoint(x=3, y=4)\n",
            "FrozenInstanceError : cannot assign to field 'x'\n"
          ]
        }
      ]
    },
    {
      "cell_type": "code",
      "source": [
        "#8. Create a dataclass Rectangle with width, height, and implement a area() method; override generated _eq_() for area-based equality.\n",
        "#10. Demonstrate runtime type-checking by inspecting _annotations_ of a dataclass.\n",
        "from dataclasses import dataclass\n",
        "@dataclass\n",
        "class Rectangle:\n",
        "  width: float | int\n",
        "  height: float | int\n",
        "  def area(self) -> float:\n",
        "    return self.width * self.height\n",
        "  def __eq__(self, other):\n",
        "    if not isinstance(other, Rectangle):\n",
        "      print(\"Wrong type\")\n",
        "      return NotImplemented\n",
        "    return self.area() == other.area()\n",
        "r1 = Rectangle(4, 5)\n",
        "print(r1)\n",
        "print(r1.area())\n",
        "r2 = Rectangle(2, 10)\n",
        "print(r2)\n",
        "print(r2.area())\n",
        "print(r1 == r2)\n",
        "print(Rectangle.__annotations__)"
      ],
      "metadata": {
        "colab": {
          "base_uri": "https://localhost:8080/"
        },
        "id": "yl6i-MuqyD-E",
        "outputId": "047cf8f9-0457-450c-b74d-c3ad558817d8"
      },
      "execution_count": 55,
      "outputs": [
        {
          "output_type": "stream",
          "name": "stdout",
          "text": [
            "Rectangle(width=4, height=5)\n",
            "20\n",
            "Rectangle(width=2, height=10)\n",
            "20\n",
            "True\n",
            "{'width': float | int, 'height': float | int}\n"
          ]
        }
      ]
    },
    {
      "cell_type": "code",
      "source": [
        "#9. Use make_dataclass() from dataclasses module to dynamically create a class DynamicPerson with attributes first_name and last_name.\n",
        "from dataclasses import make_dataclass\n",
        "DynamicPerson = make_dataclass(\"DynamicPerson\", [(\"first_name\", str), (\"last_name\", str)])\n",
        "dp1 = DynamicPerson(\"Abdullah\", \"Sattaar\")\n",
        "print(dp1)\n"
      ],
      "metadata": {
        "colab": {
          "base_uri": "https://localhost:8080/"
        },
        "id": "d2aLF6xs0qvI",
        "outputId": "dce94a81-cedb-4aba-c64b-2092adbab04f"
      },
      "execution_count": 52,
      "outputs": [
        {
          "output_type": "stream",
          "name": "stdout",
          "text": [
            "DynamicPerson(first_name='Abdullah', last_name='Sattaar')\n"
          ]
        }
      ]
    }
  ]
}