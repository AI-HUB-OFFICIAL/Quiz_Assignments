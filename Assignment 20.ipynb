{
 "cells": [
  {
   "cell_type": "code",
   "execution_count": 1,
   "id": "887ca1db",
   "metadata": {},
   "outputs": [
    {
     "name": "stdout",
     "output_type": "stream",
     "text": [
      "Note: you may need to restart the kernel to use updated packages.\n"
     ]
    },
    {
     "name": "stderr",
     "output_type": "stream",
     "text": [
      "\n",
      "[notice] A new release of pip is available: 25.0.1 -> 25.2\n",
      "[notice] To update, run: python.exe -m pip install --upgrade pip\n"
     ]
    }
   ],
   "source": [
    "%pip -q install pydantic pydantic_settings pydantic[email]"
   ]
  },
  {
   "cell_type": "code",
   "execution_count": 2,
   "id": "98cf5d59",
   "metadata": {},
   "outputs": [
    {
     "name": "stdout",
     "output_type": "stream",
     "text": [
      "{'properties': {'name': {'description': 'Name of the user', 'example': 'Ali', 'title': 'Name', 'type': 'string'}, 'age': {'description': 'Age of the user', 'example': 23, 'maximum': 99, 'minimum': 18, 'title': 'Age', 'type': 'integer'}, 'email': {'description': 'Email of the user', 'example': 'Ali@example.com', 'title': 'Email', 'type': 'string'}, 'role': {'anyOf': [{'type': 'string'}, {'type': 'null'}], 'default': 'member', 'title': 'Role'}}, 'required': ['name', 'age', 'email'], 'title': 'User', 'type': 'object'}\n",
      "{'users': [User(name='Ali', age=23, email='Ali@example.com', role='member'), User(name='Ahmed', age=34, email='Ahmed@example.com', role='Admin'), User(name='Usman', age=24, email='Usman@example.com', role='member')]}\n",
      "ValidationError:  1 validation error for User\n",
      "age\n",
      "  Input should be greater than or equal to 18 [type=greater_than_equal, input_value=14, input_type=int]\n",
      "    For further information visit https://errors.pydantic.dev/2.11/v/greater_than_equal\n"
     ]
    }
   ],
   "source": [
    "#1. Create a User Pydantic model with fields: name (str), age (int), email (str). Validate an instance.\n",
    "#2. Add a validator to ensure age is between 18 and 99; trigger error on invalid data.\n",
    "#3. Extend User with an optional field role: str = \"member\", and display the default.\n",
    "#6.  Use a Pydantic List[User] to validate a list of user dictionaries.\n",
    "#9. Add custom validation to ensure that email contains \"@\" using Pydantic @validator\n",
    "#10.  Use Field() to add metadata to Pydantic fields, such as description, and print the metadata via .schema().\n",
    "\n",
    "from typing import Optional, List\n",
    "from pydantic import BaseModel, ValidationError, Field, field_validator\n",
    "class User(BaseModel):\n",
    "  name: str = Field(..., description=\"Name of the user\", example=\"Ali\")\n",
    "  age: int = Field(ge=18, le=99, description=\"Age of the user\",example=23)\n",
    "  email: str = Field(..., description=\"Email of the user\", example=\"Ali@example.com\")\n",
    "  role: Optional[str] = \"member\"\n",
    "  @field_validator(\"email\")\n",
    "  def valid_email(cls, value):\n",
    "    if \"@\" not in value:\n",
    "      raise SyntaxError(\"Email must have an '@' sign.\")\n",
    "    return value\n",
    "\n",
    "class UserList(BaseModel):\n",
    "  users: List[User]\n",
    "\n",
    "u1 = User(name='Ali', age=23, email=\"Ali@example.com\")\n",
    "print(u1.model_json_schema())\n",
    "u2 = User(name=\"Ahmed\", age=34 , email=\"Ahmed@example.com\", role=\"Admin\")\n",
    "u3 = User(name=\"Usman\", age=24, email=\"Usman@example.com\")\n",
    "users = UserList(users=[u1,u2,u3])\n",
    "print(users.__dict__)\n",
    "try:\n",
    "  u = User(name=\"Aleena\", age=14, email=\"Aleena@example.com\")\n",
    "  print(u)\n",
    "except ValidationError as e:\n",
    "  print(\"ValidationError: \", e)"
   ]
  },
  {
   "cell_type": "code",
   "execution_count": 3,
   "id": "3da3ae19",
   "metadata": {},
   "outputs": [
    {
     "name": "stdout",
     "output_type": "stream",
     "text": [
      "JSON: {\"data\":{\"name\":\"Ali\",\"age\":23,\"email\":\"Ali@example.com\",\"role\":\"member\"},\"success\":true}\n"
     ]
    },
    {
     "name": "stderr",
     "output_type": "stream",
     "text": [
      "c:\\Users\\lenovo\\AppData\\Local\\Programs\\Python\\Python312\\Lib\\site-packages\\pydantic\\_migration.py:283: UserWarning: `pydantic.generics:GenericModel` has been moved to `pydantic.BaseModel`.\n",
      "  warnings.warn(f'`{import_path}` has been moved to `{new_location}`.')\n"
     ]
    }
   ],
   "source": [
    "#7.  Define a Pydantic GenericModel Response[T] with data: T, success: bool, and test with T = User.\n",
    "#8. Serialize a Response[User] to JSON and print.\n",
    "from pydantic.generics import GenericModel\n",
    "from typing import Generic, TypeVar\n",
    "T = TypeVar(\"T\")\n",
    "class Response(BaseModel, Generic[T]):\n",
    "  data: T\n",
    "  success: bool\n",
    "response = Response[User](data=u1, success=True)\n",
    "print(f\"JSON: {response.model_dump_json()}\")"
   ]
  },
  {
   "cell_type": "code",
   "execution_count": 4,
   "id": "6248d3c6",
   "metadata": {},
   "outputs": [
    {
     "name": "stdout",
     "output_type": "stream",
     "text": [
      "Ball\n",
      "456\n"
     ]
    }
   ],
   "source": [
    "#4.  Create a generic Box[T] class storing item: T and a method get_item().\n",
    "#5.  Instantiate Box[int] and Box[str] to demonstrate usage.\n",
    "\n",
    "from typing import Generic, TypeVar\n",
    "T = TypeVar('T')\n",
    "class Box(Generic[T]):\n",
    "  def __init__(self, item:T):\n",
    "    self.item = item\n",
    "  def get_item(self) -> T:\n",
    "    return self.item\n",
    "b1 = Box[str](\"Ball\")\n",
    "print(b1.get_item())\n",
    "b2 = Box[int](456)\n",
    "print(b2.get_item())"
   ]
  },
  {
   "cell_type": "code",
   "execution_count": 7,
   "id": "5a511cd2",
   "metadata": {},
   "outputs": [
    {
     "name": "stdout",
     "output_type": "stream",
     "text": [
      "Employee Salary: 15000\n",
      "Manager Salary (with 10% bouns): 16500.0\n"
     ]
    }
   ],
   "source": [
    "#5.  Create a class Employee with attribute salary, then subclass Manager(Employee) and override display_salary() to add a bonus.\n",
    "class Employee:\n",
    "  def __init__(self, salary):\n",
    "    self.salary = salary\n",
    "  def display_salary(self):\n",
    "    return f\"Employee Salary: {self.salary}\"\n",
    "class Manager(Employee):\n",
    "  def __init__(self, salary, bonus_per=10):\n",
    "    super().__init__(salary)\n",
    "    self.bonus_per = bonus_per\n",
    "  def display_salary(self):\n",
    "    bonus = self.salary * (self.bonus_per/100)\n",
    "    final_salary = self.salary + bonus\n",
    "    return f\"Manager Salary (with {self.bonus_per}% bouns): {final_salary}\"\n",
    "e1 = Employee(15000)\n",
    "print(e1.display_salary())\n",
    "m1 = Manager(15000)\n",
    "print(m1.display_salary())"
   ]
  },
  {
   "cell_type": "code",
   "execution_count": 13,
   "id": "26eb7623",
   "metadata": {},
   "outputs": [
    {
     "ename": "AttributeError",
     "evalue": "'Bank' object has no attribute '__pin'",
     "output_type": "error",
     "traceback": [
      "\u001b[31m---------------------------------------------------------------------------\u001b[39m",
      "\u001b[31mAttributeError\u001b[39m                            Traceback (most recent call last)",
      "\u001b[36mCell\u001b[39m\u001b[36m \u001b[39m\u001b[32mIn[13]\u001b[39m\u001b[32m, line 7\u001b[39m\n\u001b[32m      5\u001b[39m b1 = Bank(\u001b[32m12200\u001b[39m)\n\u001b[32m      6\u001b[39m b1._balance\n\u001b[32m----> \u001b[39m\u001b[32m7\u001b[39m \u001b[43mb1\u001b[49m\u001b[43m.\u001b[49m\u001b[43m__pin\u001b[49m\n",
      "\u001b[31mAttributeError\u001b[39m: 'Bank' object has no attribute '__pin'"
     ]
    }
   ],
   "source": [
    "class Bank:\n",
    "    def __init__(self, balance):\n",
    "        self._balance = balance\n",
    "        self.__pin = \"1234\"\n",
    "b1 = Bank(12200)\n",
    "b1._balance\n",
    "b1.__pin"
   ]
  }
 ],
 "metadata": {
  "kernelspec": {
   "display_name": "Python 3",
   "language": "python",
   "name": "python3"
  },
  "language_info": {
   "codemirror_mode": {
    "name": "ipython",
    "version": 3
   },
   "file_extension": ".py",
   "mimetype": "text/x-python",
   "name": "python",
   "nbconvert_exporter": "python",
   "pygments_lexer": "ipython3",
   "version": "3.12.10"
  }
 },
 "nbformat": 4,
 "nbformat_minor": 5
}
